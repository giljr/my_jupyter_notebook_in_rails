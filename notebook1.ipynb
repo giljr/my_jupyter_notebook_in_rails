{
 "cells": [
  {
   "cell_type": "markdown",
   "id": "3f674083-92ef-482a-84d9-b13778dc8959",
   "metadata": {},
   "source": [
    "## Pure Ruby Series - Episode 2 \n",
    "\n",
    "This material is part of the Ruby for Programmers course taught by Huw Collingbourne on Udemy, \n",
    "studied in June 2025.\n",
    "\n",
    "It serves as a refresher on best practices in Ruby programming.\n",
    "\n",
    "Welcome!!"
   ]
  },
  {
   "cell_type": "markdown",
   "id": "8678983f-3d9c-49e4-94ae-8db7444d6d87",
   "metadata": {},
   "source": [
    "#### Running .rb file  (in the same directory)\n",
    "How to Create a File Script and Execute Its Methods:"
   ]
  },
  {
   "cell_type": "code",
   "execution_count": 1,
   "id": "f553d343-d540-4b85-bebc-e850748ca2ad",
   "metadata": {},
   "outputs": [
    {
     "data": {
      "text/plain": [
       "344"
      ]
     },
     "execution_count": 1,
     "metadata": {},
     "output_type": "execute_result"
    }
   ],
   "source": [
    "File.write(\"file_method.rb\", <<~RUBY)\n",
    "  fn = \"file_method.rb\"\n",
    "\n",
    "  if File.exist?(fn)\n",
    "    puts File.expand_path(fn)      # Full absolute path\n",
    "    puts File.basename(fn)         # Just the file name\n",
    "    puts File.dirname(fn)          # Directory name\n",
    "    puts File.extname(fn)          # File extension\n",
    "    puts(\"\\#{File.size(fn)} bytes\") # File size in bytes\n",
    "  else\n",
    "    puts \"File not found: \\#{fn}\"\n",
    "  end\n",
    "RUBY\n"
   ]
  },
  {
   "cell_type": "code",
   "execution_count": 2,
   "id": "ed58b151-f538-4c76-a97e-89d743afb217",
   "metadata": {},
   "outputs": [
    {
     "name": "stdout",
     "output_type": "stream",
     "text": [
      "/home/j3/Documents/jupyter/file_method.rb\n",
      "file_method.rb\n",
      ".\n",
      ".rb\n",
      "344 bytes\n"
     ]
    }
   ],
   "source": [
    "puts `ruby file_method.rb`\n"
   ]
  },
  {
   "cell_type": "markdown",
   "id": "1b44202a-c465-4f95-b644-6f63a604e6e1",
   "metadata": {},
   "source": [
    "### Classes\n",
    "How to implement hierarchy in Ruby using class variables (@@)"
   ]
  },
  {
   "cell_type": "code",
   "execution_count": 3,
   "id": "ecb65524-0107-4482-bfc6-2cce11b9d4ca",
   "metadata": {},
   "outputs": [
    {
     "name": "stdout",
     "output_type": "stream",
     "text": [
      "There are currently 0 dogs.\n",
      "A new dog has been created!\n",
      "Woof! My name is Buddy, and I am dog number 1.\n",
      "A new dog has been created!\n",
      "Woof! My name is Fido, and I am dog number 2.\n",
      "A new dog has been created!\n",
      "Woof! My name is Max, and I am dog number 3.\n",
      "Howl! Howl!\n",
      "There are currently 3 dogs.\n"
     ]
    }
   ],
   "source": [
    "class Dog\n",
    "  @@num_dogs = 0\n",
    "\n",
    "  def self.num_dogs\n",
    "    @@num_dogs\n",
    "  end\n",
    "\n",
    "  def self.show_num_dogs\n",
    "    \"There are currently #{@@num_dogs} dogs.\"\n",
    "  end\n",
    "\n",
    "  def initialize(aName = \"Dog\")\n",
    "    puts \"A new dog has been created!\"\n",
    "    @aName = aName\n",
    "    @@num_dogs += 1\n",
    "  end\n",
    "\n",
    "  def talk\n",
    "    \"Woof! My name is #{@aName}, and I am dog number #{@@num_dogs}.\"\n",
    "  end\n",
    "end\n",
    "\n",
    "class GreatPyrenees < Dog\n",
    "  def initialize(aName, aHowl)\n",
    "    super(aName)\n",
    "    @aHowl = aHowl\n",
    "  end\n",
    "\n",
    "  def howl\n",
    "    puts \"Howl! Howl!\"\n",
    "  end\n",
    "end\n",
    "\n",
    "# Example usage\n",
    "puts Dog.show_num_dogs   # There are currently 0 dogs.\n",
    "\n",
    "mydog = Dog.new(\"Buddy\")\n",
    "puts mydog.talk\n",
    "\n",
    "yourdog = Dog.new(\"Fido\")\n",
    "puts yourdog.talk\n",
    "\n",
    "pyrenees = GreatPyrenees.new(\"Max\", \"howl\")\n",
    "puts pyrenees.talk\n",
    "pyrenees.howl\n",
    "\n",
    "puts Dog.show_num_dogs   # There are currently 3 dogs.\n"
   ]
  },
  {
   "cell_type": "markdown",
   "id": "5dc35353-dba6-4e91-ad58-b1580a0ea366",
   "metadata": {},
   "source": [
    "#### Note:\n",
    "You can also create a script file:"
   ]
  },
  {
   "cell_type": "code",
   "execution_count": 4,
   "id": "6ed4a126-1b29-408d-8ffe-a7be88cfd633",
   "metadata": {},
   "outputs": [
    {
     "data": {
      "text/plain": [
       "500"
      ]
     },
     "execution_count": 4,
     "metadata": {},
     "output_type": "execute_result"
    }
   ],
   "source": [
    "File.write(\"dog_class.rb\", <<~RUBY)\n",
    "  class Dog\n",
    "    @@num_dogs = 0\n",
    "\n",
    "    def self.num_dogs\n",
    "      @@num_dogs\n",
    "    end\n",
    "\n",
    "    def self.show_num_dogs\n",
    "      \"There are currently \\#{@@num_dogs} dogs.\"\n",
    "    end\n",
    "\n",
    "    def initialize(aName = \"Dog\")\n",
    "      puts \"A new dog has been created!\"\n",
    "      @aName = aName\n",
    "      @@num_dogs += 1\n",
    "    end\n",
    "\n",
    "    def talk\n",
    "      \"Woof! My name is \\#{@aName}, and I am dog number \\#{@@num_dogs}.\"\n",
    "    end\n",
    "  end\n",
    "\n",
    "  class GreatPyrenees < Dog\n",
    "    def initialize(aName, aHowl)\n",
    "      super(aName)\n",
    "      @aHowl = aHowl\n",
    "    end\n",
    "\n",
    "    def howl\n",
    "      puts \"Howl! Howl!\"\n",
    "    end\n",
    "  end\n",
    "RUBY\n"
   ]
  },
  {
   "cell_type": "code",
   "execution_count": 5,
   "id": "b77a845c-6a30-45e3-944d-c9fdec0b2df2",
   "metadata": {},
   "outputs": [
    {
     "name": "stdout",
     "output_type": "stream",
     "text": [
      "\n"
     ]
    }
   ],
   "source": [
    "puts `ruby dog_class.rb`"
   ]
  },
  {
   "cell_type": "code",
   "execution_count": 6,
   "id": "2a06819e-1445-4db7-a3d4-21506ad8786f",
   "metadata": {},
   "outputs": [
    {
     "name": "stdout",
     "output_type": "stream",
     "text": [
      "There are currently 3 dogs.\n",
      "A new dog has been created!\n",
      "Woof! My name is Fox, and I am dog number 4.\n",
      "A new dog has been created!\n",
      "Woof! My name is Rintintin, and I am dog number 5.\n",
      "A new dog has been created!\n",
      "Woof! My name is Marlon, and I am dog number 6.\n",
      "Howl! Howl!\n",
      "There are currently 6 dogs.\n"
     ]
    }
   ],
   "source": [
    "# Example usage\n",
    "puts Dog.show_num_dogs   # There are currently 0 dogs.\n",
    "\n",
    "mydog = Dog.new(\"Fox\")\n",
    "puts mydog.talk\n",
    "\n",
    "yourdog = Dog.new(\"Rintintin\")\n",
    "puts yourdog.talk\n",
    "\n",
    "pyrenees = GreatPyrenees.new(\"Marlon\", \"Elvis\")\n",
    "puts pyrenees.talk\n",
    "pyrenees.howl\n",
    "\n",
    "puts Dog.show_num_dogs   # There are currently 3 dogs.\n"
   ]
  },
  {
   "cell_type": "markdown",
   "id": "cd90eccf-1ac3-473a-a8a3-c7bddc994336",
   "metadata": {},
   "source": [
    "## Arrays"
   ]
  },
  {
   "cell_type": "code",
   "execution_count": 7,
   "id": "76346b49-3cbc-4f76-8226-e601bd3ba951",
   "metadata": {},
   "outputs": [
    {
     "data": {
      "text/plain": [
       "[1, 2.5, \"three\", [4, 5, 6]]"
      ]
     },
     "execution_count": 7,
     "metadata": {},
     "output_type": "execute_result"
    }
   ],
   "source": [
    "a = [1,2.5,\"three\",[4,5,6]]"
   ]
  },
  {
   "cell_type": "code",
   "execution_count": 8,
   "id": "f1f87129-9fb2-4ab2-b3c5-17cd6552e12d",
   "metadata": {},
   "outputs": [
    {
     "name": "stdout",
     "output_type": "stream",
     "text": [
      "[1, 2.5, \"three\", [4, 5, 6]]"
     ]
    }
   ],
   "source": [
    "print a"
   ]
  },
  {
   "cell_type": "code",
   "execution_count": 9,
   "id": "3b43fbb3-2323-49e8-ab50-6a08b95b8a1f",
   "metadata": {},
   "outputs": [
    {
     "data": {
      "text/plain": [
       "5"
      ]
     },
     "execution_count": 9,
     "metadata": {},
     "output_type": "execute_result"
    }
   ],
   "source": [
    "a[3][1]"
   ]
  },
  {
   "cell_type": "code",
   "execution_count": 10,
   "id": "fb5473aa-1450-4bb0-b5d7-7eaed0d8a617",
   "metadata": {},
   "outputs": [
    {
     "data": {
      "text/plain": [
       "[2.5, \"three\", [4, 5, 6]]"
      ]
     },
     "execution_count": 10,
     "metadata": {},
     "output_type": "execute_result"
    }
   ],
   "source": [
    "a[1..3]"
   ]
  },
  {
   "cell_type": "code",
   "execution_count": 11,
   "id": "a618260a-5cca-4346-b17d-943802f425bf",
   "metadata": {},
   "outputs": [
    {
     "data": {
      "text/plain": [
       "\"x\""
      ]
     },
     "execution_count": 11,
     "metadata": {},
     "output_type": "execute_result"
    }
   ],
   "source": [
    "a[3][1] = \"x\""
   ]
  },
  {
   "cell_type": "code",
   "execution_count": 12,
   "id": "fc7b8a82-20e3-48c8-9b4a-090469c35df6",
   "metadata": {},
   "outputs": [
    {
     "data": {
      "text/plain": [
       "[1, 2.5, \"three\", [4, \"x\", 6]]"
      ]
     },
     "execution_count": 12,
     "metadata": {},
     "output_type": "execute_result"
    }
   ],
   "source": [
    "a"
   ]
  },
  {
   "cell_type": "markdown",
   "id": "4eb2708a-9ca2-4de4-8df1-82f1fd601e9e",
   "metadata": {},
   "source": [
    "## Hash"
   ]
  },
  {
   "cell_type": "code",
   "execution_count": 13,
   "id": "b5e38467-9c13-4fdb-b9a0-cba0e51bd8c4",
   "metadata": {},
   "outputs": [
    {
     "data": {
      "text/plain": [
       "{1=>\"Hello\", 2=>\"Goodbye\"}"
      ]
     },
     "execution_count": 13,
     "metadata": {},
     "output_type": "execute_result"
    }
   ],
   "source": [
    "h1 = {1 => 'Hello', 2 => 'Goodbye'}"
   ]
  },
  {
   "cell_type": "code",
   "execution_count": 14,
   "id": "0ffe9841-9dc5-4ca5-80df-b2e8a09b51d6",
   "metadata": {},
   "outputs": [
    {
     "data": {
      "text/plain": [
       "\"Goodbye\""
      ]
     },
     "execution_count": 14,
     "metadata": {},
     "output_type": "execute_result"
    }
   ],
   "source": [
    "h1[2]"
   ]
  },
  {
   "cell_type": "code",
   "execution_count": 15,
   "id": "317f2b36-ec5e-4c83-bdfc-c58867abccfb",
   "metadata": {},
   "outputs": [
    {
     "data": {
      "text/plain": [
       "{\"name\"=>\"Multi-hash\", \"array\"=>[\"one\", \"two\", \"three\", \"four\"], \"nested array\"=>[\"I\", [\"wandered\", \"lonely\", \"as\", \"a\", \"cloud\"]], \"nested hash\"=>{\"a\"=>\"hi\", \"b\"=>\"goodbye\"}}"
      ]
     },
     "execution_count": 15,
     "metadata": {},
     "output_type": "execute_result"
    }
   ],
   "source": [
    "multihash = {\n",
    "    'name' => 'Multi-hash',\n",
    "    'array'=> ['one', 'two', 'three', 'four'],\n",
    "    'nested array' => [\"I\", [\"wandered\", \"lonely\", \"as\", \"a\",\"cloud\"]],\n",
    "    'nested hash' => {'a'=>'hi', 'b'=>'goodbye'}\n",
    "}"
   ]
  },
  {
   "cell_type": "code",
   "execution_count": 16,
   "id": "5cd2ac65-e4be-4a54-a773-a99796810413",
   "metadata": {},
   "outputs": [
    {
     "data": {
      "text/plain": [
       "\"three\""
      ]
     },
     "execution_count": 16,
     "metadata": {},
     "output_type": "execute_result"
    }
   ],
   "source": [
    "multihash['array'][2]"
   ]
  },
  {
   "cell_type": "code",
   "execution_count": 17,
   "id": "5bfc3ba4-9ef6-4c0e-948a-c93bceea7817",
   "metadata": {},
   "outputs": [
    {
     "data": {
      "text/plain": [
       "\"hi\""
      ]
     },
     "execution_count": 17,
     "metadata": {},
     "output_type": "execute_result"
    }
   ],
   "source": [
    "multihash['nested hash']['a']\n"
   ]
  },
  {
   "cell_type": "code",
   "execution_count": 18,
   "id": "c41f689c-39c0-4f4b-9789-96425058f9ac",
   "metadata": {},
   "outputs": [
    {
     "data": {
      "text/plain": [
       "\"four\""
      ]
     },
     "execution_count": 18,
     "metadata": {},
     "output_type": "execute_result"
    }
   ],
   "source": [
    "multihash['array'][3]"
   ]
  },
  {
   "cell_type": "code",
   "execution_count": 19,
   "id": "30da5114-cb2c-4066-8f16-51710c91d9b6",
   "metadata": {},
   "outputs": [
    {
     "data": {
      "text/plain": [
       "\"goodbye\""
      ]
     },
     "execution_count": 19,
     "metadata": {},
     "output_type": "execute_result"
    }
   ],
   "source": [
    "multihash['nested hash']['b']"
   ]
  },
  {
   "cell_type": "markdown",
   "id": "22fed340-a6e9-47ce-9849-5beb8a78e1a2",
   "metadata": {},
   "source": [
    "## Loops\n",
    "**[for i in ITERATOR]**"
   ]
  },
  {
   "cell_type": "code",
   "execution_count": 20,
   "id": "ff941977-e495-44f5-b175-0d98bd9305d6",
   "metadata": {},
   "outputs": [
    {
     "data": {
      "text/plain": [
       "[1, 2, 3]"
      ]
     },
     "execution_count": 20,
     "metadata": {},
     "output_type": "execute_result"
    }
   ],
   "source": [
    "for item in [1,2,3]\n",
    "    item\n",
    "end"
   ]
  },
  {
   "cell_type": "code",
   "execution_count": 21,
   "id": "2ac45b3f-fb54-419f-be83-bbb3ec936b3d",
   "metadata": {},
   "outputs": [
    {
     "data": {
      "text/plain": [
       "{1=>\"one\", 2=>\"two\", 3=>\"three\"}"
      ]
     },
     "execution_count": 21,
     "metadata": {},
     "output_type": "execute_result"
    }
   ],
   "source": [
    "for item in {1 =>'one', 2 =>'two',3 =>'three'}\n",
    "    item\n",
    "end"
   ]
  },
  {
   "cell_type": "code",
   "execution_count": 22,
   "id": "cf712a45-40de-42b2-9b68-92be691cdcd3",
   "metadata": {},
   "outputs": [
    {
     "name": "stdout",
     "output_type": "stream",
     "text": [
      "[1, \"one\"]\n",
      "[2, \"two\"]\n",
      "[3, \"three\"]\n"
     ]
    },
    {
     "data": {
      "text/plain": [
       "{1=>\"one\", 2=>\"two\", 3=>\"three\"}"
      ]
     },
     "execution_count": 22,
     "metadata": {},
     "output_type": "execute_result"
    }
   ],
   "source": [
    "for item in {1 =>'one', 2 =>'two',3 =>'three'}\n",
    "    p item\n",
    "end"
   ]
  },
  {
   "cell_type": "code",
   "execution_count": 23,
   "id": "2d17f017-7bb0-4c46-8256-da87ccf689d4",
   "metadata": {},
   "outputs": [
    {
     "data": {
      "text/plain": [
       "{1=>\"one\", 2=>\"two\", 3=>\"three\"}"
      ]
     },
     "execution_count": 23,
     "metadata": {},
     "output_type": "execute_result"
    }
   ],
   "source": [
    "for item in {1 =>'one', 2 =>'two',3 =>'three'} do\n",
    "    item \n",
    "end"
   ]
  },
  {
   "cell_type": "markdown",
   "id": "195dcb06-4229-421e-8105-f72d7a39f7d1",
   "metadata": {},
   "source": [
    "#### Note:\n",
    "In multiline Ruby scripts, do is optional. However, it must be used on a single-line block:"
   ]
  },
  {
   "cell_type": "code",
   "execution_count": 24,
   "id": "290243e4-6f99-4900-a2ce-6df0807be9b0",
   "metadata": {},
   "outputs": [
    {
     "name": "stdout",
     "output_type": "stream",
     "text": [
      "1\n",
      "one\n",
      "2\n",
      "two\n",
      "3\n",
      "three\n"
     ]
    },
    {
     "data": {
      "text/plain": [
       "{1=>\"one\", 2=>\"two\", 3=>\"three\"}"
      ]
     },
     "execution_count": 24,
     "metadata": {},
     "output_type": "execute_result"
    }
   ],
   "source": [
    "for item in {1 =>'one', 2 =>'two',3 =>'three'}\n",
    "    puts item\n",
    "end"
   ]
  },
  {
   "cell_type": "code",
   "execution_count": 25,
   "id": "82c52b08-25f7-40e7-8051-43540c3bb6e7",
   "metadata": {},
   "outputs": [
    {
     "data": {
      "text/plain": [
       "{1=>\"one\", 2=>\"two\", 3=>\"three\"}"
      ]
     },
     "execution_count": 25,
     "metadata": {},
     "output_type": "execute_result"
    }
   ],
   "source": [
    "for item in {1 =>'one', 2 =>'two',3 =>'three'} do item end"
   ]
  },
  {
   "cell_type": "markdown",
   "id": "7d091507-ca03-49ea-9851-76ccf01882ac",
   "metadata": {},
   "source": [
    "##### **INTERATOR.each**"
   ]
  },
  {
   "cell_type": "code",
   "execution_count": 26,
   "id": "59c68858-65e7-4a79-90be-271945b9dfc2",
   "metadata": {},
   "outputs": [
    {
     "data": {
      "text/plain": [
       "{1=>\"one\", 2=>\"two\", 3=>\"three\"}"
      ]
     },
     "execution_count": 26,
     "metadata": {},
     "output_type": "execute_result"
    }
   ],
   "source": [
    "{1 =>'one', 2 =>'two',3 =>'three'}.each do item end"
   ]
  },
  {
   "cell_type": "code",
   "execution_count": 27,
   "id": "4f0f71ce-6da4-4fd1-a3d8-51ff7f78518e",
   "metadata": {},
   "outputs": [
    {
     "data": {
      "text/plain": [
       "{1=>\"one\", 2=>\"two\", 3=>\"three\"}"
      ]
     },
     "execution_count": 27,
     "metadata": {},
     "output_type": "execute_result"
    }
   ],
   "source": [
    "{1 =>'one', 2 =>'two',3 =>'three'}.each do |i| \n",
    "    i\n",
    "end"
   ]
  },
  {
   "cell_type": "code",
   "execution_count": 28,
   "id": "acf4ea3c-e11f-4e9a-80e0-73ed5471c20a",
   "metadata": {},
   "outputs": [
    {
     "data": {
      "text/plain": [
       "[1, 2, 3]"
      ]
     },
     "execution_count": 28,
     "metadata": {},
     "output_type": "execute_result"
    }
   ],
   "source": [
    "[1 ,2, 3].each do |i| \n",
    "    i\n",
    "end"
   ]
  },
  {
   "cell_type": "markdown",
   "id": "976e8bab-5430-4cb8-b0f6-82d702801107",
   "metadata": {},
   "source": [
    "#### for i in **RANGE**"
   ]
  },
  {
   "cell_type": "code",
   "execution_count": 29,
   "id": "05d7b786-aa99-4ae7-a8ed-04954b35beb6",
   "metadata": {},
   "outputs": [
    {
     "name": "stdout",
     "output_type": "stream",
     "text": [
      "1\n",
      "2\n",
      "3\n"
     ]
    },
    {
     "data": {
      "text/plain": [
       "1..3"
      ]
     },
     "execution_count": 29,
     "metadata": {},
     "output_type": "execute_result"
    }
   ],
   "source": [
    "for s in 1..3\n",
    "    puts s\n",
    "end"
   ]
  },
  {
   "cell_type": "code",
   "execution_count": 30,
   "id": "3a09ca33-7ab0-4dfb-8feb-bcb5ced43b5c",
   "metadata": {},
   "outputs": [
    {
     "name": "stdout",
     "output_type": "stream",
     "text": [
      "1\n",
      "2\n",
      "3\n"
     ]
    },
    {
     "data": {
      "text/plain": [
       "1..3"
      ]
     },
     "execution_count": 30,
     "metadata": {},
     "output_type": "execute_result"
    }
   ],
   "source": [
    "(1..3).each do |s|\n",
    "    p s\n",
    "end"
   ]
  },
  {
   "cell_type": "code",
   "execution_count": 31,
   "id": "4b6e7867-81ef-4447-bcf7-8026c22d4fe2",
   "metadata": {},
   "outputs": [
    {
     "name": "stdout",
     "output_type": "stream",
     "text": [
      "Hello 1\n",
      "Hello 2\n",
      "Hello 3\n",
      "Hello 4\n",
      "Hello 5\n",
      "Hello 6\n",
      "Hello 7\n",
      "Hello 8\n",
      "Hello 9\n",
      "Hello 10\n"
     ]
    },
    {
     "data": {
      "text/plain": [
       "1..10"
      ]
     },
     "execution_count": 31,
     "metadata": {},
     "output_type": "execute_result"
    }
   ],
   "source": [
    "for i in (1..10) do\n",
    "    puts \"Hello #{i}\"\n",
    "end"
   ]
  },
  {
   "cell_type": "markdown",
   "id": "4cfe9cc9-58c5-490a-b569-b0a32abcff2d",
   "metadata": {},
   "source": [
    "#### **upto() & downto()**"
   ]
  },
  {
   "cell_type": "code",
   "execution_count": 32,
   "id": "5ce12976-2278-46c0-a61d-eb092220cccb",
   "metadata": {},
   "outputs": [
    {
     "name": "stdout",
     "output_type": "stream",
     "text": [
      "0\n",
      "1\n",
      "2\n",
      "3\n",
      "4\n",
      "5\n",
      "6\n",
      "7\n",
      "8\n",
      "9\n",
      "10\n"
     ]
    },
    {
     "data": {
      "text/plain": [
       "0"
      ]
     },
     "execution_count": 32,
     "metadata": {},
     "output_type": "execute_result"
    }
   ],
   "source": [
    "0.upto(10) do |i|\n",
    "    puts (i)\n",
    "end\n"
   ]
  },
  {
   "cell_type": "code",
   "execution_count": 33,
   "id": "7069a459-3784-4e1b-876e-d9585d7626a3",
   "metadata": {},
   "outputs": [
    {
     "name": "stdout",
     "output_type": "stream",
     "text": [
      "10\n",
      "9\n",
      "8\n",
      "7\n",
      "6\n",
      "5\n",
      "4\n",
      "3\n",
      "2\n",
      "1\n",
      "0\n"
     ]
    },
    {
     "data": {
      "text/plain": [
       "10"
      ]
     },
     "execution_count": 33,
     "metadata": {},
     "output_type": "execute_result"
    }
   ],
   "source": [
    "10.downto(0) do |i|\n",
    "    puts i\n",
    "end"
   ]
  },
  {
   "cell_type": "markdown",
   "id": "6b446647-9532-4b40-9268-ed761824dd1c",
   "metadata": {},
   "source": [
    "#### Declare a **multi array**"
   ]
  },
  {
   "cell_type": "code",
   "execution_count": 34,
   "id": "a49115c0-3d36-4e8e-abec-4d6e1fe52ee2",
   "metadata": {},
   "outputs": [
    {
     "data": {
      "text/plain": [
       "[[\"one\", \"two\", \"three\", \"four\"], [1, 2, 3, 4]]"
      ]
     },
     "execution_count": 34,
     "metadata": {},
     "output_type": "execute_result"
    }
   ],
   "source": [
    "multiarr = [['one', 'two', 'three', 'four'],\n",
    "            [1, 2, 3, 4]\n",
    "]"
   ]
  },
  {
   "cell_type": "markdown",
   "id": "9d623a31-89f3-403b-ac07-5edcac7ea074",
   "metadata": {},
   "source": [
    "#### **for i in interator**"
   ]
  },
  {
   "cell_type": "code",
   "execution_count": 35,
   "id": "abaf8e21-5ebf-43c0-9154-d5027436d006",
   "metadata": {},
   "outputs": [
    {
     "name": "stdout",
     "output_type": "stream",
     "text": [
      "[\"one\", \"two\", \"three\", \"four\"]\n",
      "[1, 2, 3, 4]\n"
     ]
    },
    {
     "data": {
      "text/plain": [
       "[[\"one\", \"two\", \"three\", \"four\"], [1, 2, 3, 4]]"
      ]
     },
     "execution_count": 35,
     "metadata": {},
     "output_type": "execute_result"
    }
   ],
   "source": [
    "for i in multiarr\n",
    "    p i\n",
    "end"
   ]
  },
  {
   "cell_type": "code",
   "execution_count": 36,
   "id": "e1c81c63-95e3-4fa2-8e35-0f96582cdbb5",
   "metadata": {},
   "outputs": [
    {
     "name": "stdout",
     "output_type": "stream",
     "text": [
      "a=one, b=two, c=three, d=four\n",
      "a=1, b=2, c=3, d=4\n"
     ]
    },
    {
     "data": {
      "text/plain": [
       "[[\"one\", \"two\", \"three\", \"four\"], [1, 2, 3, 4]]"
      ]
     },
     "execution_count": 36,
     "metadata": {},
     "output_type": "execute_result"
    }
   ],
   "source": [
    "for (a,b,c,d) in multiarr\n",
    "   print(\"a=#{a}, b=#{b}, c=#{c}, d=#{d}\\n\")\n",
    "end"
   ]
  },
  {
   "cell_type": "markdown",
   "id": "f9741a91-2617-422a-9d45-4949ed9554c7",
   "metadata": {},
   "source": [
    "#### **.each**\n",
    "#### **block iterator**"
   ]
  },
  {
   "cell_type": "code",
   "execution_count": 37,
   "id": "c00749d3-38b8-4c62-9238-53c280e3216a",
   "metadata": {},
   "outputs": [
    {
     "name": "stdout",
     "output_type": "stream",
     "text": [
      "a=one, b=two, c=three, d=four\n",
      "a=1, b=2, c=3, d=4\n"
     ]
    },
    {
     "data": {
      "text/plain": [
       "[[\"one\", \"two\", \"three\", \"four\"], [1, 2, 3, 4]]"
      ]
     },
     "execution_count": 37,
     "metadata": {},
     "output_type": "execute_result"
    }
   ],
   "source": [
    "multiarr.each do |a,b,c,d|\n",
    "   print(\"a=#{a}, b=#{b}, c=#{c}, d=#{d}\\n\")\n",
    "end"
   ]
  },
  {
   "cell_type": "markdown",
   "id": "927cf4e5-0f26-44a0-8874-064d4884cdc7",
   "metadata": {},
   "source": [
    "#### **alternative {} delimiters**"
   ]
  },
  {
   "cell_type": "code",
   "execution_count": 38,
   "id": "3a267866-1958-44e6-a7dd-2ef095c667f4",
   "metadata": {},
   "outputs": [
    {
     "name": "stdout",
     "output_type": "stream",
     "text": [
      "a=one, b=two, c=three, d=four\n",
      "a=1, b=2, c=3, d=4\n"
     ]
    },
    {
     "data": {
      "text/plain": [
       "[[\"one\", \"two\", \"three\", \"four\"], [1, 2, 3, 4]]"
      ]
     },
     "execution_count": 38,
     "metadata": {},
     "output_type": "execute_result"
    }
   ],
   "source": [
    "multiarr.each { |a,b,c,d|\n",
    "   print(\"a=#{a}, b=#{b}, c=#{c}, d=#{d}\\n\")\n",
    "}"
   ]
  },
  {
   "cell_type": "markdown",
   "id": "c698a3c0-dc97-462a-9484-0f96ac3e74d9",
   "metadata": {},
   "source": [
    "#### **While**\n",
    "##### Initialize with zero"
   ]
  },
  {
   "cell_type": "code",
   "execution_count": 39,
   "id": "cc3f7cdf-411d-4c94-8e2b-805c7ce43f99",
   "metadata": {},
   "outputs": [
    {
     "name": "stdout",
     "output_type": "stream",
     "text": [
      "0\n",
      "1\n",
      "2\n",
      "3\n",
      "4\n",
      "5\n",
      "6\n",
      "7\n",
      "8\n",
      "9\n",
      "end\n"
     ]
    }
   ],
   "source": [
    "x = 0\n",
    "\n",
    "while x < 10 do \n",
    "    puts x\n",
    "    x += 1\n",
    "end\n",
    "\n",
    "puts \"end\""
   ]
  },
  {
   "cell_type": "markdown",
   "id": "09fb7552-44f6-4a70-93f2-17d2b96a046d",
   "metadata": {},
   "source": [
    "#### alternative sintax"
   ]
  },
  {
   "cell_type": "code",
   "execution_count": 40,
   "id": "3fcff155-2152-4d11-80f2-e68280512908",
   "metadata": {},
   "outputs": [
    {
     "name": "stdout",
     "output_type": "stream",
     "text": [
      "0\n",
      "1\n",
      "2\n",
      "3\n",
      "4\n",
      "5\n",
      "6\n",
      "7\n",
      "8\n",
      "9\n",
      "end\n"
     ]
    }
   ],
   "source": [
    "x = 0\n",
    "\n",
    "begin \n",
    "    puts x\n",
    "    x += 1\n",
    "end while x < 10 \n",
    "\n",
    "puts \"end\""
   ]
  },
  {
   "cell_type": "markdown",
   "id": "918fc05a-1b7a-46f6-8efc-f4bbaa2d1736",
   "metadata": {},
   "source": [
    "##### initialize with 10"
   ]
  },
  {
   "cell_type": "code",
   "execution_count": 41,
   "id": "6c91beab-2dd4-4dfd-9920-bc8bdd088654",
   "metadata": {},
   "outputs": [
    {
     "name": "stdout",
     "output_type": "stream",
     "text": [
      "end\n"
     ]
    }
   ],
   "source": [
    "x = 10\n",
    "\n",
    "while x < 10 do \n",
    "    puts x\n",
    "    x += 1\n",
    "end\n",
    "\n",
    "puts \"end\""
   ]
  },
  {
   "cell_type": "markdown",
   "id": "a08c0e15-1fff-4291-9f98-5a9f4bc8c6f4",
   "metadata": {},
   "source": [
    "#### The difference here is that I printed the last number because I ran the test afterward.\n",
    "This runs once!"
   ]
  },
  {
   "cell_type": "code",
   "execution_count": 42,
   "id": "e6699938-1ca9-45af-a194-b71faf78c4e3",
   "metadata": {},
   "outputs": [
    {
     "name": "stdout",
     "output_type": "stream",
     "text": [
      "10\n",
      "end\n"
     ]
    }
   ],
   "source": [
    "x = 10\n",
    "\n",
    "begin \n",
    "    puts x\n",
    "    x += 1\n",
    "end while x < 10 \n",
    "\n",
    "puts \"end\""
   ]
  },
  {
   "cell_type": "markdown",
   "id": "b62bab81-bc5b-4ac7-a178-156490d46d9d",
   "metadata": {},
   "source": [
    "#### Runs Zero or More Times\n",
    "```\n",
    "while <test> do\n",
    "    # code \n",
    "end\n",
    "```"
   ]
  },
  {
   "cell_type": "markdown",
   "id": "5c8f1dde-b2b7-41d0-8a62-8c62b9d9b8b3",
   "metadata": {},
   "source": [
    "#### Runs One or More Times\n",
    "```\n",
    "begin\n",
    "   # code\n",
    "end while <test>"
   ]
  },
  {
   "cell_type": "markdown",
   "id": "c4afe796-63ff-4533-abd4-e8070f8fdd8b",
   "metadata": {},
   "source": [
    "#### **Until**\n",
    " ##### **Never** executes:"
   ]
  },
  {
   "cell_type": "code",
   "execution_count": 43,
   "id": "bc12da9e-b1f0-4900-98bd-0b28d00cd9e3",
   "metadata": {},
   "outputs": [],
   "source": [
    "i = 10\n",
    "until i == 10 do puts(i) end"
   ]
  },
  {
   "cell_type": "markdown",
   "id": "f2072472-10d2-4d35-9609-8c0c7952e04b",
   "metadata": {},
   "source": [
    "  ##### Executes **once**"
   ]
  },
  {
   "cell_type": "code",
   "execution_count": 44,
   "id": "97dc0943-4dbe-4062-a93e-af5e27a98ff1",
   "metadata": {},
   "outputs": [
    {
     "name": "stdout",
     "output_type": "stream",
     "text": [
      "10\n"
     ]
    }
   ],
   "source": [
    "i = 10\n",
    "begin puts(i) end until i == 10"
   ]
  },
  {
   "cell_type": "markdown",
   "id": "bd1fa0bd-94c3-4974-af63-202743918e33",
   "metadata": {},
   "source": [
    "##### **Multiline** - **do** keywork **is optional**"
   ]
  },
  {
   "cell_type": "code",
   "execution_count": 45,
   "id": "8e7281b9-db0e-43ad-8d88-920f814ddb2a",
   "metadata": {},
   "outputs": [],
   "source": [
    "i = 10\n",
    "until i == 10 do\n",
    "    puts(i) \n",
    "end"
   ]
  },
  {
   "cell_type": "code",
   "execution_count": 46,
   "id": "6c81263a-e760-43d8-b484-2f40db70d532",
   "metadata": {},
   "outputs": [],
   "source": [
    "i = 10\n",
    "until i == 10\n",
    "    puts(i) \n",
    "end"
   ]
  },
  {
   "cell_type": "markdown",
   "id": "c6df4786-2662-405d-b542-a093393b492c",
   "metadata": {},
   "source": [
    "#### **loop** do code break **end**"
   ]
  },
  {
   "cell_type": "code",
   "execution_count": 47,
   "id": "a09ed87b-abea-46f3-8f00-f752a8a339d4",
   "metadata": {},
   "outputs": [
    {
     "name": "stdout",
     "output_type": "stream",
     "text": [
      "one\n",
      "two\n",
      "three\n",
      "four\n"
     ]
    }
   ],
   "source": [
    "\n",
    "arr = ['one', 'two', 'three', 'four']\n",
    "\n",
    "i = 0\n",
    "\n",
    "loop do\n",
    "  puts(arr[i])\n",
    "  i += 1\n",
    "  if i == arr.length\n",
    "    break\n",
    "  end\n",
    "end\n"
   ]
  },
  {
   "cell_type": "markdown",
   "id": "a91d46de-a22b-47e5-ae09-fd4e0081c042",
   "metadata": {},
   "source": [
    "#### **Blocks**"
   ]
  },
  {
   "cell_type": "code",
   "execution_count": 48,
   "id": "bf509053-07dd-4030-a06a-3ab122bca857",
   "metadata": {},
   "outputs": [
    {
     "name": "stdout",
     "output_type": "stream",
     "text": [
      "0\n",
      "1\n",
      "2\n"
     ]
    },
    {
     "data": {
      "text/plain": [
       "3"
      ]
     },
     "execution_count": 48,
     "metadata": {},
     "output_type": "execute_result"
    }
   ],
   "source": [
    "3.times do |i|\n",
    "    puts i\n",
    "end"
   ]
  },
  {
   "cell_type": "code",
   "execution_count": 49,
   "id": "38848726-6f67-4885-bb4b-2eb2241aa26e",
   "metadata": {},
   "outputs": [
    {
     "name": "stdout",
     "output_type": "stream",
     "text": [
      "1\n",
      "2\n",
      "3\n"
     ]
    },
    {
     "data": {
      "text/plain": [
       "[1, 2, 3]"
      ]
     },
     "execution_count": 49,
     "metadata": {},
     "output_type": "execute_result"
    }
   ],
   "source": [
    "[1,2,3].each do |i|\n",
    "    puts(i)\n",
    "end"
   ]
  },
  {
   "cell_type": "markdown",
   "id": "55b06fef-4d76-46f8-9260-9a69e0f4cf14",
   "metadata": {},
   "source": [
    "#### **Collect & Map**"
   ]
  },
  {
   "cell_type": "code",
   "execution_count": 50,
   "id": "3d473a0f-56f0-41ab-bdca-7eaafa0f128e",
   "metadata": {},
   "outputs": [
    {
     "data": {
      "text/plain": [
       "[2, 4, 6]"
      ]
     },
     "execution_count": 50,
     "metadata": {},
     "output_type": "execute_result"
    }
   ],
   "source": [
    "c1 = [1,2,3].collect{|x|x*2}"
   ]
  },
  {
   "cell_type": "code",
   "execution_count": 51,
   "id": "c26f4254-8751-4294-9bb2-92990308b4c5",
   "metadata": {},
   "outputs": [
    {
     "data": {
      "text/plain": [
       "[2, 4, 6]"
      ]
     },
     "execution_count": 51,
     "metadata": {},
     "output_type": "execute_result"
    }
   ],
   "source": [
    "c1 = [1,2,3].map{|x|x*2}"
   ]
  },
  {
   "cell_type": "code",
   "execution_count": 52,
   "id": "989d6bfe-3736-499d-92a5-36d4ecdc1857",
   "metadata": {},
   "outputs": [
    {
     "name": "stdout",
     "output_type": "stream",
     "text": [
      "H\n",
      "HE\n",
      "HEL\n",
      "HELL\n",
      "HELLO\n",
      "HELLO \n",
      "HELLO W\n",
      "HELLO WO\n",
      "HELLO WOR\n",
      "HELLO WORL\n",
      "HELLO WORLD\n",
      "[\"h\", \"e\", \"l\", \"l\", \"o\", \" \", \"w\", \"o\", \"r\", \"l\", \"d\"]\n",
      "newstr='HELLO WORLD\n"
     ]
    }
   ],
   "source": [
    "newstr = ''\n",
    "a = \"hello world\".split(//).each {\n",
    "    \n",
    "    |x| newstr << x.capitalize\n",
    "    puts(newstr)\n",
    "}\n",
    "p a\n",
    "puts(\"newstr='#{newstr}\")"
   ]
  },
  {
   "cell_type": "markdown",
   "id": "c3ed45d8-9784-4240-8564-a7173d9533ca",
   "metadata": {},
   "source": [
    "#### **Proc & Lambda**"
   ]
  },
  {
   "cell_type": "code",
   "execution_count": 53,
   "id": "0e6aa54c-6a43-4ff7-8ae6-5a377c0b990c",
   "metadata": {},
   "outputs": [
    {
     "data": {
      "text/plain": [
       "#<Proc:0x0000744acadc43d8 (irb):2>"
      ]
     },
     "execution_count": 53,
     "metadata": {},
     "output_type": "execute_result"
    }
   ],
   "source": [
    "a = Proc.new{|x| x = x*10; puts (x)}\n",
    "b = lambda{|x| x = x*10, puts(x)}\n",
    "c = proc{|x| x.capitalize}    "
   ]
  },
  {
   "cell_type": "code",
   "execution_count": 54,
   "id": "6351fa10-11af-4d4c-8922-fb9520463bc6",
   "metadata": {},
   "outputs": [
    {
     "name": "stdout",
     "output_type": "stream",
     "text": [
      "Proc\n",
      "Proc\n",
      "Proc\n"
     ]
    },
    {
     "data": {
      "text/plain": [
       "Proc"
      ]
     },
     "execution_count": 54,
     "metadata": {},
     "output_type": "execute_result"
    }
   ],
   "source": [
    "p a.class\n",
    "p b.class\n",
    "p c.class"
   ]
  },
  {
   "cell_type": "code",
   "execution_count": 55,
   "id": "0c8571b4-d6c5-4a3a-a214-18c35cf3530f",
   "metadata": {},
   "outputs": [
    {
     "name": "stdout",
     "output_type": "stream",
     "text": [
      "1000\n"
     ]
    }
   ],
   "source": [
    "a.call(100)"
   ]
  },
  {
   "cell_type": "code",
   "execution_count": 56,
   "id": "33395d4d-c653-41e0-9210-d7b9c4f32b80",
   "metadata": {},
   "outputs": [
    {
     "name": "stdout",
     "output_type": "stream",
     "text": [
      "60\n"
     ]
    },
    {
     "data": {
      "text/plain": [
       "[600, nil]"
      ]
     },
     "execution_count": 56,
     "metadata": {},
     "output_type": "execute_result"
    }
   ],
   "source": [
    "b.call(60)"
   ]
  },
  {
   "cell_type": "code",
   "execution_count": 57,
   "id": "76d566c0-517f-4bef-8253-9a393dee2e8b",
   "metadata": {},
   "outputs": [
    {
     "data": {
      "text/plain": [
       "\"Hello world\""
      ]
     },
     "execution_count": 57,
     "metadata": {},
     "output_type": "execute_result"
    }
   ],
   "source": [
    "c.call(\"hello world\")"
   ]
  },
  {
   "cell_type": "markdown",
   "id": "a698e896-6e8b-4b76-8012-6efa9e84147a",
   "metadata": {},
   "source": [
    "#### **YIELD**"
   ]
  },
  {
   "cell_type": "code",
   "execution_count": 58,
   "id": "ace4d12b-e48a-4d07-a35b-d3812f381eb9",
   "metadata": {},
   "outputs": [
    {
     "data": {
      "text/plain": [
       ":aMethod"
      ]
     },
     "execution_count": 58,
     "metadata": {},
     "output_type": "execute_result"
    }
   ],
   "source": [
    "def aMethod\n",
    "    puts('------In aMethod------')\n",
    "    yield\n",
    "    puts('----------------------')\n",
    "end"
   ]
  },
  {
   "cell_type": "code",
   "execution_count": 59,
   "id": "9a6acf9e-ac03-4453-acba-6784bde30b40",
   "metadata": {},
   "outputs": [
    {
     "name": "stdout",
     "output_type": "stream",
     "text": [
      "------In aMethod------\n",
      "Good Morning\n",
      "----------------------\n"
     ]
    }
   ],
   "source": [
    "aMethod { puts \"Good Morning\" }"
   ]
  },
  {
   "cell_type": "code",
   "execution_count": 60,
   "id": "1313d69f-8b66-4058-a5f2-e7084414b6d2",
   "metadata": {},
   "outputs": [
    {
     "data": {
      "text/plain": [
       ":caps"
      ]
     },
     "execution_count": 60,
     "metadata": {},
     "output_type": "execute_result"
    }
   ],
   "source": [
    "def caps (anarg)\n",
    "    puts('------In caps method------')\n",
    "    yield (anarg)\n",
    "    puts('--------------------------')\n",
    "end"
   ]
  },
  {
   "cell_type": "code",
   "execution_count": 61,
   "id": "0171da69-1fa1-40ae-abd3-f7965aa35d95",
   "metadata": {},
   "outputs": [
    {
     "name": "stdout",
     "output_type": "stream",
     "text": [
      "------In caps method------\n",
      "A LOWERCASE STRING\n",
      "--------------------------\n"
     ]
    }
   ],
   "source": [
    "caps(\"a lowercase string\"){ |x| x.upcase!; puts (x)}"
   ]
  },
  {
   "cell_type": "code",
   "execution_count": 62,
   "id": "cde1d8cc-6824-4757-af7c-ab688ad8e3d0",
   "metadata": {},
   "outputs": [
    {
     "data": {
      "text/plain": [
       ":abc"
      ]
     },
     "execution_count": 62,
     "metadata": {},
     "output_type": "execute_result"
    }
   ],
   "source": [
    "def abc(a, b, c)\n",
    "    puts('------In abc method------')\n",
    "    a.call\n",
    "    b.call\n",
    "    c.call\n",
    "    yield\n",
    "    puts('--------------------------')\n",
    "end"
   ]
  },
  {
   "cell_type": "markdown",
   "id": "14b98e67-5c65-429c-9c3c-86cb7080377e",
   "metadata": {},
   "source": [
    "#### Note:\n",
    "This method expects three callable objects (a, b, and c — like Procs or lambdas) and a block (the yield).\n",
    "\n",
    "So your method call must pass in three Proc objects and a block. For example:"
   ]
  },
  {
   "cell_type": "code",
   "execution_count": 63,
   "id": "cabd763b-326f-4b29-9bca-ee3e59bdcb8d",
   "metadata": {},
   "outputs": [
    {
     "name": "stdout",
     "output_type": "stream",
     "text": [
      "------In abc method------\n",
      "first\n",
      "second\n",
      "third\n",
      "four\n",
      "--------------------------\n"
     ]
    }
   ],
   "source": [
    "a = -> { puts \"first\" }\n",
    "b = -> { puts \"second\" }\n",
    "c = -> { puts \"third\" }\n",
    "\n",
    "# or\n",
    "\n",
    "# a = lambda { puts \"first\" }\n",
    "# b = lambda { puts \"second\" }\n",
    "# c = proc { puts \"third\" }\n",
    "\n",
    "abc(a, b, c) { puts \"four\" }\n"
   ]
  },
  {
   "cell_type": "markdown",
   "id": "1a9085ee-8e21-4156-b785-205a4846f98a",
   "metadata": {},
   "source": [
    "Explanation:\n",
    "\n",
    "    -> { ... } creates a lambda (a type of Proc).\n",
    "\n",
    "    Each of a, b, and c is now a callable object.\n",
    "\n",
    "    The block { puts \"four\" } is passed separately and invoked with yield."
   ]
  },
  {
   "cell_type": "code",
   "execution_count": 64,
   "id": "edbb1563-7ca9-4f3c-bc75-913a60d22299",
   "metadata": {},
   "outputs": [
    {
     "data": {
      "text/plain": [
       ":abc2"
      ]
     },
     "execution_count": 64,
     "metadata": {},
     "output_type": "execute_result"
    }
   ],
   "source": [
    "def abc2(& d)\n",
    "    puts('------In abc2 method------')\n",
    "\n",
    "    puts \"four\"\n",
    "    \n",
    "    puts('--------------------------')\n",
    "end\n",
    "    "
   ]
  },
  {
   "cell_type": "code",
   "execution_count": 65,
   "id": "474eb3ae-ccfb-440c-a5eb-2b53a06535b4",
   "metadata": {},
   "outputs": [
    {
     "name": "stdout",
     "output_type": "stream",
     "text": [
      "------In abc2 method------\n",
      "four\n",
      "--------------------------\n"
     ]
    }
   ],
   "source": [
    "abc2 { puts \"four\" }"
   ]
  },
  {
   "cell_type": "code",
   "execution_count": 66,
   "id": "e45fd720-2dff-428a-98d0-a53a7544b78e",
   "metadata": {},
   "outputs": [
    {
     "data": {
      "text/plain": [
       ":foo"
      ]
     },
     "execution_count": 66,
     "metadata": {},
     "output_type": "execute_result"
    }
   ],
   "source": [
    "def foo( s )\n",
    "    puts('------In foo method------')\n",
    "    if block_given?\n",
    "        puts(\"(Block passed to foo)\")\n",
    "        yield( s )\n",
    "    else\n",
    "        puts(\"(No block passed to foo:/)\")\n",
    "    end\n",
    "    puts('-------------------------')\n",
    "end"
   ]
  },
  {
   "cell_type": "code",
   "execution_count": 67,
   "id": "35ac1a7e-8e91-46b0-be23-497d8e77f870",
   "metadata": {},
   "outputs": [
    {
     "name": "stdout",
     "output_type": "stream",
     "text": [
      "------In foo method------\n",
      "(Block passed to foo)\n",
      "HELLO\n",
      "-------------------------\n"
     ]
    }
   ],
   "source": [
    "foo(\"Hello\"){|s| s.upcase! \n",
    "    puts (s)}"
   ]
  },
  {
   "cell_type": "code",
   "execution_count": 68,
   "id": "a889b5cc-e96f-42fb-a0b5-46ac8fbde2ed",
   "metadata": {},
   "outputs": [
    {
     "name": "stdout",
     "output_type": "stream",
     "text": [
      "------In foo method------\n",
      "(No block passed to foo:/)\n",
      "-------------------------\n"
     ]
    }
   ],
   "source": [
    "foo(\"Goodbye\")"
   ]
  },
  {
   "cell_type": "markdown",
   "id": "b5a14ea5-4f1c-40e1-8cae-975caf0a916c",
   "metadata": {},
   "source": [
    "#### File **IO**\n",
    "First lets create a file:\n"
   ]
  },
  {
   "cell_type": "code",
   "execution_count": 69,
   "id": "add35b99-2758-47a7-932d-239a039c155f",
   "metadata": {},
   "outputs": [
    {
     "data": {
      "text/plain": [
       "24"
      ]
     },
     "execution_count": 69,
     "metadata": {},
     "output_type": "execute_result"
    }
   ],
   "source": [
    "File.write(\"test_io.txt\", <<~RUBY)\n",
    "  one\n",
    "  two\n",
    "  three\n",
    "  four\n",
    "  five\n",
    "RUBY\n"
   ]
  },
  {
   "cell_type": "markdown",
   "id": "2cc88e48-3700-4f52-8219-cbf1c5f6860f",
   "metadata": {},
   "source": [
    "#### IO.foreach"
   ]
  },
  {
   "cell_type": "code",
   "execution_count": 70,
   "id": "ffe21908-e295-4c8e-8570-b0e197764a48",
   "metadata": {},
   "outputs": [
    {
     "name": "stdout",
     "output_type": "stream",
     "text": [
      "IO.foreach...\n",
      "\n",
      "one\n",
      "two\n",
      "three\n",
      "four\n",
      "five\n",
      "\n",
      "End\n"
     ]
    }
   ],
   "source": [
    "puts \"IO.foreach...\"\n",
    "puts \"\\n\"\n",
    "\n",
    "IO.foreach(\"test_io.txt\") { |line| print line }\n",
    "puts(\"\\nEnd\")"
   ]
  },
  {
   "cell_type": "markdown",
   "id": "16d5c3ce-d03f-4b38-b20c-7c25c8e4fb64",
   "metadata": {},
   "source": [
    "#### IO.readlines"
   ]
  },
  {
   "cell_type": "code",
   "execution_count": 71,
   "id": "97c41bf0-6f67-4461-b9f3-7311b022c1a2",
   "metadata": {},
   "outputs": [
    {
     "name": "stdout",
     "output_type": "stream",
     "text": [
      "IO.readlines...\n",
      "\n",
      "one\n",
      "two\n",
      "three\n",
      "four\n",
      "five\n",
      "\n",
      "End\n"
     ]
    }
   ],
   "source": [
    "puts (\"IO.readlines...\")\n",
    "puts \"\\n\"\n",
    "\n",
    "lines = IO.readlines(\"test_io.txt\")\n",
    "lines.each{|line| puts(line)}\n",
    "puts(\"\\nEnd\")"
   ]
  },
  {
   "cell_type": "code",
   "execution_count": 72,
   "id": "855e7380-cac2-4d96-96a6-3756157f3c57",
   "metadata": {},
   "outputs": [
    {
     "name": "stdout",
     "output_type": "stream",
     "text": [
      "IO.readlines...\n",
      "\n",
      "\"one\\n\"\n",
      "\"two\\n\"\n",
      "\"three\\n\"\n",
      "\"four\\n\"\n",
      "\"five\\n\"\n",
      "\n",
      "End\n"
     ]
    }
   ],
   "source": [
    "puts (\"IO.readlines...\")\n",
    "puts \"\\n\"\n",
    "\n",
    "lines = IO.readlines(\"test_io.txt\")\n",
    "lines.each{|line| p(line)}\n",
    "puts(\"\\nEnd\")"
   ]
  },
  {
   "cell_type": "markdown",
   "id": "5d357442-f8bb-4ea4-aaae-6f65e658cb02",
   "metadata": {},
   "source": [
    "#### File.foreach or File.readlines "
   ]
  },
  {
   "cell_type": "code",
   "execution_count": 73,
   "id": "64b23e0e-372f-4797-ab95-24f444216571",
   "metadata": {},
   "outputs": [
    {
     "name": "stdout",
     "output_type": "stream",
     "text": [
      "File.foreach...\n",
      "\n",
      "one\n",
      "two\n",
      "three\n",
      "four\n",
      "five\n",
      "\n",
      "End\n",
      "\n",
      "File.readlines...\n",
      "\n",
      "one\n",
      "two\n",
      "three\n",
      "four\n",
      "five\n",
      "\n",
      "End\n"
     ]
    }
   ],
   "source": [
    "puts \"File.foreach...\"\n",
    "puts \"\\n\"\n",
    "\n",
    "File.foreach(\"test_io.txt\") { |line| print line }\n",
    "puts(\"\\nEnd\")\n",
    "\n",
    "puts (\"\\nFile.readlines...\")\n",
    "puts \"\\n\"\n",
    "\n",
    "lines = File.readlines(\"test_io.txt\")\n",
    "lines.each{|line| puts(line)}\n",
    "puts(\"\\nEnd\")"
   ]
  },
  {
   "cell_type": "markdown",
   "id": "9cc8f53a-964d-4fe3-a646-0627bcd08666",
   "metadata": {},
   "source": [
    "Links to ruby-lang.org:\n",
    "\n",
    "[IO](https://docs.ruby-lang.org/en/master/IO.html)\n",
    "\n",
    "[File](https://docs.ruby-lang.org/en/3.2/File.html)\n"
   ]
  },
  {
   "cell_type": "markdown",
   "id": "fd8b750d-4d6e-460a-bf80-092322536d56",
   "metadata": {},
   "source": [
    "#### **File** - Create And Read Files"
   ]
  },
  {
   "cell_type": "code",
   "execution_count": 74,
   "id": "0cc91d79-ef00-425f-815f-4807ac1bc117",
   "metadata": {},
   "outputs": [],
   "source": [
    "f = File.new(\"newfile.txt\", \"w\")\n",
    "f.puts \"I\", \"wandered\", \"lonely\", \"as\", \"a\", \"cloud\"\n",
    "f.close\n"
   ]
  },
  {
   "cell_type": "code",
   "execution_count": 75,
   "id": "338e9376-d8f4-4315-abf3-b01e9ba4f841",
   "metadata": {},
   "outputs": [
    {
     "name": "stdout",
     "output_type": "stream",
     "text": [
      "I               \t<End of Line 1>\n",
      "wandered        \t<End of Line 2>\n",
      "lonely          \t<End of Line 3>\n",
      "as              \t<End of Line 4>\n",
      "a               \t<End of Line 5>\n",
      "cloud           \t<End of Line 6>\n",
      "\n",
      "\tTotal characters: 23\n",
      "\tTotal lines: 6\n"
     ]
    }
   ],
   "source": [
    "# Create and Read Files\n",
    "\n",
    "# Step 1: Write words to the file, one per line\n",
    "File.open(\"newfile.txt\", \"w\") do |f|\n",
    "  f.puts \"I\", \"wandered\", \"lonely\", \"as\", \"a\", \"cloud\"\n",
    "end\n",
    "\n",
    "# Step 2: Initialize counters\n",
    "charcount = 0\n",
    "linecount = 0\n",
    "\n",
    "# Step 3: Read the file line by line\n",
    "File.open(\"newfile.txt\", \"r\") do |f|\n",
    "  f.each_line do |line|\n",
    "    word = line.chomp\n",
    "    print word.ljust(16)   # Adjust spacing here (16 chars wide)\n",
    "    linecount += 1\n",
    "    charcount += word.length\n",
    "    puts \"\\t<End of Line #{linecount}>\"\n",
    "  end\n",
    "end\n",
    "\n",
    "# Step 4: Output summary\n",
    "puts \"\\n\\tTotal characters: #{charcount}\"\n",
    "puts \"\\tTotal lines: #{linecount}\"\n",
    "\n"
   ]
  },
  {
   "cell_type": "markdown",
   "id": "3348088c-47c8-4f2b-9d71-439ccaceb988",
   "metadata": {},
   "source": [
    "#### YAML.dump"
   ]
  },
  {
   "cell_type": "code",
   "execution_count": 76,
   "id": "19fb42c8-40be-4032-8870-4e5b02d28174",
   "metadata": {},
   "outputs": [],
   "source": [
    "require 'yaml'\n",
    "\n",
    "f = File.open('friend.yml', 'w')\n",
    "YAML.dump([\"fred\", \"bert\", \"mary\"], f)\n",
    "f.close"
   ]
  },
  {
   "cell_type": "code",
   "execution_count": 77,
   "id": "736e2357-f177-4da1-b907-c228ae06fa63",
   "metadata": {},
   "outputs": [
    {
     "data": {
      "text/plain": [
       "#<File:morefriend.yml (closed)>"
      ]
     },
     "execution_count": 77,
     "metadata": {},
     "output_type": "execute_result"
    }
   ],
   "source": [
    "File.open('morefriend.yml', 'w'){|friendsfile|\n",
    "    YAML.dump([\"sally\", \"agnes\", \"john\"], friendsfile)\n",
    "} "
   ]
  },
  {
   "cell_type": "code",
   "execution_count": 78,
   "id": "35a13a14-0981-4b2f-9ace-6ff58af19fa7",
   "metadata": {},
   "outputs": [
    {
     "data": {
      "text/plain": [
       "[\"fred\", \"bert\", \"mary\"]"
      ]
     },
     "execution_count": 78,
     "metadata": {},
     "output_type": "execute_result"
    }
   ],
   "source": [
    "myfriends = YAML.load(File.open('friend.yml'))"
   ]
  },
  {
   "cell_type": "code",
   "execution_count": 79,
   "id": "e6984088-08fc-4af4-a01e-a165143a43e6",
   "metadata": {},
   "outputs": [
    {
     "name": "stdout",
     "output_type": "stream",
     "text": [
      "fred\n",
      "bert\n",
      "mary\n"
     ]
    }
   ],
   "source": [
    "puts myfriends"
   ]
  },
  {
   "cell_type": "markdown",
   "id": "1a18c548-0ad6-413b-a868-104761d904a3",
   "metadata": {},
   "source": [
    "#### to_yaml"
   ]
  },
  {
   "cell_type": "code",
   "execution_count": 80,
   "id": "682491bd-6219-4817-8d32-3b443c9ea0aa",
   "metadata": {},
   "outputs": [
    {
     "name": "stdout",
     "output_type": "stream",
     "text": [
      "--- Hello world\n",
      "---\n",
      "- 1\n",
      "- 2\n",
      "- 3\n",
      "- 4\n"
     ]
    }
   ],
   "source": [
    "puts \"Hello world\".to_yaml\n",
    "puts [1,2,3,4].to_yaml"
   ]
  },
  {
   "cell_type": "code",
   "execution_count": 81,
   "id": "dc3e932f-7352-4eee-8353-623fce25bb55",
   "metadata": {},
   "outputs": [
    {
     "name": "stdout",
     "output_type": "stream",
     "text": [
      "[\"sally\", \"agnes\", \"john\"]\n"
     ]
    },
    {
     "data": {
      "text/plain": [
       "[\"sally\", \"agnes\", \"john\"]"
      ]
     },
     "execution_count": 81,
     "metadata": {},
     "output_type": "execute_result"
    }
   ],
   "source": [
    "# Load the YAML content from the file\n",
    "arr = File.open('morefriend.yml') { |f| YAML.load(f) }\n",
    "\n",
    "# Print the loaded data\n",
    "p arr"
   ]
  },
  {
   "cell_type": "markdown",
   "id": "77db2687-03e8-497f-a1f0-eeae977a8dec",
   "metadata": {},
   "source": [
    "#### Create a yaml Config File"
   ]
  },
  {
   "cell_type": "code",
   "execution_count": 82,
   "id": "dfd00444-fdf7-42bc-93c8-99dd96030202",
   "metadata": {},
   "outputs": [
    {
     "data": {
      "text/plain": [
       "136"
      ]
     },
     "execution_count": 82,
     "metadata": {},
     "output_type": "execute_result"
    }
   ],
   "source": [
    "require 'yaml'\n",
    "\n",
    "# Define the AWS configuration data\n",
    "aws_config = {\n",
    "  \"aws\" => {\n",
    "    \"region\" => \"us-east-1\",\n",
    "    \"access_key_id\" => \"YOUR_ACCESS_KEY_ID\",\n",
    "    \"secret_access_key\" => \"YOUR_SECRET_ACCESS_KEY\",\n",
    "    \"s3_bucket\" => \"my-app-bucket\"\n",
    "  }\n",
    "}\n",
    "\n",
    "# Write the YAML content to a file\n",
    "File.write(\"config.yml\", aws_config.to_yaml)\n"
   ]
  },
  {
   "cell_type": "code",
   "execution_count": 83,
   "id": "0398d695-2f05-4c01-99e8-22a7604005a6",
   "metadata": {},
   "outputs": [
    {
     "data": {
      "text/plain": [
       "[1, [2, 3, [4, 5, 6, [7, 8, 9, 10], \"end3\"], \"end2\"], \"end1\"]"
      ]
     },
     "execution_count": 83,
     "metadata": {},
     "output_type": "execute_result"
    }
   ],
   "source": [
    "arr = [\n",
    "  1,                         # represents \"aws\" key\n",
    "  [2, 3,                     # represents the nested hash under \"aws\"\n",
    "    [4, 5, 6,                # represents keys: region, access_key_id, secret_access_key\n",
    "      [7, 8, 9, 10],         # could represent further attributes or metadata\n",
    "      \"end3\"                # end of inner-most group\n",
    "    ],\n",
    "    \"end2\"                  # end of middle group\n",
    "  ],\n",
    "  \"end1\"                    # end of outer structure\n",
    "]\n"
   ]
  },
  {
   "cell_type": "markdown",
   "id": "921b238b-64e6-4429-a0cf-95ef2864bca5",
   "metadata": {},
   "source": [
    "**How To editting environment-specific credentials**\n",
    "\n",
    "Here's a brief explanation of how *EDITOR=code rails credentials:edit* works and how to save changes properly:\n",
    "\n",
    "🔧 What it does:\n",
    "\n",
    "EDITOR=code rails credentials:edit\n",
    "\n",
    "    This command opens your encrypted Rails credentials file (config/credentials.yml.enc) using VS Code as the editor.\n",
    "\n",
    "    It uses the encryption key stored in config/master.key to decrypt and re-encrypt the file.\n",
    "\n",
    "    You're editing the actual credentials YAML content in plain text, temporarily.\n",
    "\n",
    "✅ How to save:\n",
    "\n",
    "    When the file opens in VS Code:\n",
    "\n",
    "        Edit the credentials as a YAML file. For example:\n",
    "\n",
    "        aws:\n",
    "          access_key_id: your_id\n",
    "          secret_access_key: your_secret\n",
    "\n",
    "    Save the file in VS Code (Ctrl+S or Cmd+S).\n",
    "\n",
    "    Close the VS Code window completely.\n",
    "\n",
    "        🔒 Rails waits for the editor window to close before re-encrypting the credentials.\n",
    "\n",
    "    Once the window is closed, Rails will automatically re-encrypt the credentials and finish the command.\n",
    "\n",
    "📌 Important Tips:\n",
    "\n",
    "    Don’t rename the file or change its format.\n",
    "\n",
    "    Keep config/master.key safe — it's needed to decrypt the credentials.\n",
    "\n",
    "    To use a different editor, replace code with your preferred one, e.g. EDITOR=nano or EDITOR=\"subl\"."
   ]
  },
  {
   "cell_type": "code",
   "execution_count": 84,
   "id": "63870c91-7469-4be9-9cd9-60c696386219",
   "metadata": {},
   "outputs": [
    {
     "name": "stdout",
     "output_type": "stream",
     "text": [
      "---\n",
      "- 1\n",
      "- - 2\n",
      "  - 3\n",
      "  - - 4\n",
      "    - 5\n",
      "    - 6\n",
      "    - - 7\n",
      "      - 8\n",
      "      - 9\n",
      "      - 10\n",
      "    - end3\n",
      "  - end2\n",
      "- end1\n"
     ]
    }
   ],
   "source": [
    "arr = [1,[2,3,[4,5,6,[7,8,9,10], \"end3\"], \"end2\"],\"end1\"] \n",
    "\n",
    "y arr"
   ]
  },
  {
   "cell_type": "markdown",
   "id": "798bc675-6d36-4047-91f2-e9762288e5fb",
   "metadata": {},
   "source": [
    "#### **Marshal**"
   ]
  },
  {
   "cell_type": "code",
   "execution_count": 85,
   "id": "f9d15440-2d4f-451d-b225-fccacb8a3fbc",
   "metadata": {},
   "outputs": [],
   "source": [
    "f = File.open('friend.sav', 'w')\n",
    "Marshal.dump([\"fred\", \"bert\", \"mary\"], f)\n",
    "f.close"
   ]
  },
  {
   "cell_type": "markdown",
   "id": "bf7e945a-ad78-4391-8725-74deb71da532",
   "metadata": {},
   "source": [
    "That’s it! We’ve taken a journey through the Ruby language to refresh our knowledge and write better code. \n",
    "\n",
    "**Thank you for reading!**"
   ]
  }
 ],
 "metadata": {
  "kernelspec": {
   "display_name": "Ruby 3 (iruby kernel)",
   "language": "ruby",
   "name": "ruby3"
  },
  "language_info": {
   "file_extension": ".rb",
   "mimetype": "application/x-ruby",
   "name": "ruby",
   "version": "3.2.3"
  }
 },
 "nbformat": 4,
 "nbformat_minor": 5
}
