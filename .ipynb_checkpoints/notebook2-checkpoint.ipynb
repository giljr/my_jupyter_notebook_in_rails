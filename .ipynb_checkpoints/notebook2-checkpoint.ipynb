{
 "cells": [
  {
   "cell_type": "markdown",
   "id": "a272af2f-24b9-4c5c-a73b-fa130fa793e3",
   "metadata": {},
   "source": [
    "### Map, Reduce & Select in Ruby\n",
    "Mastering Enumerable Methods for Powerful Data Transformation # MapReduceSelectSeries — [Episode 0](https://medium.com/jungletronics/map-reduce-select-in-ruby-b6d66561e1bb)\n",
    "\n",
    "Declaring a function:"
   ]
  },
  {
   "cell_type": "code",
   "execution_count": 1,
   "id": "4ddc605d-ccd8-40a1-8579-c5604f4b2d5e",
   "metadata": {},
   "outputs": [
    {
     "data": {
      "text/plain": [
       ":f"
      ]
     },
     "execution_count": 1,
     "metadata": {},
     "output_type": "execute_result"
    }
   ],
   "source": [
    "def f(x)\n",
    "    x*x\n",
    "end\n",
    "    "
   ]
  },
  {
   "cell_type": "markdown",
   "id": "0e271818-ad33-4257-8ee1-14b9e8dcb69c",
   "metadata": {},
   "source": [
    "#### **Map**\n",
    "The job of map() is to apply a function or block to each member of the array and return a new array"
   ]
  },
  {
   "cell_type": "code",
   "execution_count": 2,
   "id": "f6c80bd3-5dd4-44a6-8ddd-3a2dd1808eed",
   "metadata": {},
   "outputs": [
    {
     "data": {
      "text/plain": [
       "[1, 4, 9, 16, 25]"
      ]
     },
     "execution_count": 2,
     "metadata": {},
     "output_type": "execute_result"
    }
   ],
   "source": [
    "out_array = [1,2,3,4,5].map do |n|\n",
    "    f(n)\n",
    "end"
   ]
  },
  {
   "cell_type": "code",
   "execution_count": 3,
   "id": "26588c4e-1cfc-4d9b-95cf-ffe2b87a9f59",
   "metadata": {},
   "outputs": [
    {
     "data": {
      "text/plain": [
       "[1, 4, 9, 16, 25]"
      ]
     },
     "execution_count": 3,
     "metadata": {},
     "output_type": "execute_result"
    }
   ],
   "source": [
    "out_array = [1,2,3,4,5].map { |n| f(n) }"
   ]
  },
  {
   "cell_type": "code",
   "execution_count": 4,
   "id": "deff4b53-2592-404b-93d6-6b02b95e7615",
   "metadata": {},
   "outputs": [
    {
     "data": {
      "text/plain": [
       "[[1, 1], [2, 4], [3, 9], [4, 16], [5, 25]]"
      ]
     },
     "execution_count": 4,
     "metadata": {},
     "output_type": "execute_result"
    }
   ],
   "source": [
    "out_array = [1,2,3,4,5].map { |n|[n, n*n] }"
   ]
  },
  {
   "cell_type": "code",
   "execution_count": 5,
   "id": "766dd9b4-ec9e-41f9-86c8-6e350d7d3fc7",
   "metadata": {},
   "outputs": [
    {
     "data": {
      "text/plain": [
       "[101, 104, 109, 116, 125]"
      ]
     },
     "execution_count": 5,
     "metadata": {},
     "output_type": "execute_result"
    }
   ],
   "source": [
    "out_array = [1,2,3,4,5].map do |n|\n",
    "    f(n)\n",
    "end.map do |s| s+100\n",
    "end"
   ]
  },
  {
   "cell_type": "markdown",
   "id": "61594884-8cfa-451b-86e4-1f699184db46",
   "metadata": {},
   "source": [
    "#### **Reduce**\n",
    "The job of reduce() is to apply a function cumulatively to each member of the collection and then return an object (which could be an array, a single value, a hash, or anything)."
   ]
  },
  {
   "cell_type": "code",
   "execution_count": 6,
   "id": "10be300a-b192-4107-86d8-a2dffe66a9c4",
   "metadata": {},
   "outputs": [
    {
     "data": {
      "text/plain": [
       "15"
      ]
     },
     "execution_count": 6,
     "metadata": {},
     "output_type": "execute_result"
    }
   ],
   "source": [
    "[1,2,3,4,5].reduce(0, :+)"
   ]
  },
  {
   "cell_type": "code",
   "execution_count": 7,
   "id": "59ddbe4c-41d9-4a75-a92d-d8b921e64b9f",
   "metadata": {},
   "outputs": [
    {
     "data": {
      "text/plain": [
       "48"
      ]
     },
     "execution_count": 7,
     "metadata": {},
     "output_type": "execute_result"
    }
   ],
   "source": [
    "[1,2,3,4,5].reduce(33) do |memo, elem|\n",
    "   memo.+(elem)\n",
    "end"
   ]
  },
  {
   "cell_type": "code",
   "execution_count": 8,
   "id": "2fe9e863-93ce-446d-a456-8d81054e05b1",
   "metadata": {},
   "outputs": [
    {
     "name": "stdout",
     "output_type": "stream",
     "text": [
      "\"memo = 33 + elem = 1 = 34\"\n",
      "\"memo = 34 + elem = 2 = 36\"\n",
      "\"memo = 36 + elem = 3 = 39\"\n",
      "\"memo = 39 + elem = 4 = 43\"\n",
      "\"memo = 43 + elem = 5 = 48\"\n"
     ]
    },
    {
     "data": {
      "text/plain": [
       "48"
      ]
     },
     "execution_count": 8,
     "metadata": {},
     "output_type": "execute_result"
    }
   ],
   "source": [
    "[1,2,3,4,5].reduce(33) do |memo, elem|\n",
    "    p \"memo = #{memo} + elem = #{elem} = #{memo + elem}\"\n",
    "    memo.+(elem)\n",
    "end"
   ]
  },
  {
   "cell_type": "code",
   "execution_count": 9,
   "id": "cb995630-b46c-4706-8a28-b73642537edd",
   "metadata": {},
   "outputs": [
    {
     "data": {
      "text/plain": [
       "77.7"
      ]
     },
     "execution_count": 9,
     "metadata": {},
     "output_type": "execute_result"
    }
   ],
   "source": [
    "[1,2,3,4,5].reduce(33) do |memo, elem|\n",
    "   memo.+(elem)\n",
    "   77.7  # Always returns 77.7\n",
    "end"
   ]
  },
  {
   "cell_type": "code",
   "execution_count": 10,
   "id": "e34620a7-e509-46e2-bec9-92a05c91394c",
   "metadata": {},
   "outputs": [
    {
     "data": {
      "text/plain": [
       "{1=>\"1\", 2=>\"2\", 3=>\"3\", 4=>\"4\", 5=>\"5\"}"
      ]
     },
     "execution_count": 10,
     "metadata": {},
     "output_type": "execute_result"
    }
   ],
   "source": [
    "[1,2,3,4,5].reduce({}) do |memo, elem|\n",
    "   memo[elem] = elem.to_s\n",
    "   memo\n",
    "end"
   ]
  },
  {
   "cell_type": "code",
   "execution_count": 11,
   "id": "5178e1ba-78aa-468e-a851-9e99e3df7554",
   "metadata": {},
   "outputs": [
    {
     "data": {
      "text/plain": [
       "120"
      ]
     },
     "execution_count": 11,
     "metadata": {},
     "output_type": "execute_result"
    }
   ],
   "source": [
    "[1,2,3,4,5].reduce(1,:*)"
   ]
  },
  {
   "cell_type": "code",
   "execution_count": 12,
   "id": "c92565d2-e677-4233-bfc2-02df96822c3a",
   "metadata": {},
   "outputs": [
    {
     "data": {
      "text/plain": [
       "[nil, nil]"
      ]
     },
     "execution_count": 12,
     "metadata": {},
     "output_type": "execute_result"
    }
   ],
   "source": [
    "ini_memo = [nil, nil]"
   ]
  },
  {
   "cell_type": "code",
   "execution_count": 13,
   "id": "e03b1b5d-b2fa-49de-a19d-d97159e8fab3",
   "metadata": {},
   "outputs": [
    {
     "data": {
      "text/plain": [
       "[9, 10]"
      ]
     },
     "execution_count": 13,
     "metadata": {},
     "output_type": "execute_result"
    }
   ],
   "source": [
    "last_2=(1..10).reduce(ini_memo) do |memo, elem|\n",
    "   ini_memo.push(elem)\n",
    "   ini_memo.shift\n",
    "   ini_memo\n",
    "end"
   ]
  },
  {
   "cell_type": "code",
   "execution_count": 14,
   "id": "2c18bbbc-e9c6-45b6-a50d-d3f29a56aadd",
   "metadata": {},
   "outputs": [
    {
     "data": {
      "text/plain": [
       "[9, 10]"
      ]
     },
     "execution_count": 14,
     "metadata": {},
     "output_type": "execute_result"
    }
   ],
   "source": [
    "last_2 = (1..10).reduce([0, 0]) do |memo, elem|\n",
    "  memo.push(elem)\n",
    "  memo.shift\n",
    "  memo\n",
    "end\n",
    "\n"
   ]
  },
  {
   "cell_type": "markdown",
   "id": "4aaff019-f7ea-4f1e-b267-3b6fe5bfaf37",
   "metadata": {},
   "source": [
    "Step by step:\n",
    "\n",
    "    Start: [0, 0]\n",
    "\n",
    "    elem = 1: [0, 0] → push(1) → [0, 0, 1] → shift → [0, 1]\n",
    "\n",
    "    elem = 2: [0, 1] → push(2) → [0, 1, 2] → shift → [1, 2]\n",
    "\n",
    "    elem = 3: [1, 2] → push(3) → [1, 2, 3] → shift → [2, 3]\n",
    "\n",
    "    elem = 4: [2, 3] → push(4) → [2, 3, 4] → shift → [3, 4]\n",
    "\n",
    "Final result: last_2 = [3, 4]"
   ]
  },
  {
   "cell_type": "code",
   "execution_count": 15,
   "id": "9f722ff0-9622-4f03-bb8c-6ece1913ddcc",
   "metadata": {},
   "outputs": [
    {
     "name": "stdout",
     "output_type": "stream",
     "text": [
      "[8, 9, 10]\n"
     ]
    }
   ],
   "source": [
    "n = 3\n",
    "ini_memo = Array.new(n, 0)  # [0, 0, 0]\n",
    "\n",
    "last_n = (1..10).reduce(ini_memo) do |memo, elem|\n",
    "  memo.push(elem)\n",
    "  memo.shift\n",
    "  memo\n",
    "end\n",
    "\n",
    "puts last_n.inspect  # => [8, 9, 10]\n"
   ]
  },
  {
   "cell_type": "code",
   "execution_count": 16,
   "id": "89454cbd-0960-4cfa-b7fd-ca5a9b1e7f00",
   "metadata": {},
   "outputs": [
    {
     "name": "stdout",
     "output_type": "stream",
     "text": [
      "[8, 9, 10]\n"
     ]
    }
   ],
   "source": [
    "def rolling_window_last_n(range, n)\n",
    "  range.reduce(Array.new(n, 0)) do |memo, elem|\n",
    "    memo.push(elem)\n",
    "    memo.shift\n",
    "    memo\n",
    "  end\n",
    "end\n",
    "\n",
    "puts rolling_window_last_n(1..10, 3).inspect  # => [8, 9, 10]\n"
   ]
  },
  {
   "cell_type": "code",
   "execution_count": 17,
   "id": "74846c82-85e5-49c2-9374-2025bbf1a8f6",
   "metadata": {},
   "outputs": [
    {
     "data": {
      "text/plain": [
       "[1, 2, 3, 455, 5, 6, 4, 3, 45, 66, 77, 54, 23, 4, 55, 6, 7]"
      ]
     },
     "execution_count": 17,
     "metadata": {},
     "output_type": "execute_result"
    }
   ],
   "source": [
    "sequence = [1,2,3,455,5,6,4,3,45,66,77,54,23,4,55,6,7]"
   ]
  },
  {
   "cell_type": "code",
   "execution_count": 18,
   "id": "c7415dbd-4721-4e28-b2ea-a5d0e807bd6d",
   "metadata": {},
   "outputs": [
    {
     "data": {
      "text/plain": [
       "[23, 55, 7]"
      ]
     },
     "execution_count": 18,
     "metadata": {},
     "output_type": "execute_result"
    }
   ],
   "source": [
    "sequence.reduce([nil,nil,nil,nil,nil]) do |memo, n|\n",
    "   memo.push(n)\n",
    "   memo.shift\n",
    "   memo\n",
    "end.select do |odds_of_last_5|\n",
    "   odds_of_last_5 %2 == 1\n",
    "end"
   ]
  },
  {
   "cell_type": "markdown",
   "id": "b0ecfdb6-0f7b-494a-a025-3a9f4d9e6c17",
   "metadata": {},
   "source": [
    "Step-by-Step Explanation\n",
    "1. sequence.reduce([nil, nil, nil, nil, nil])\n",
    "\n",
    "    This starts with an array of 5 nils, which acts as a sliding window of the last 5 elements.\n",
    "\n",
    "    .reduce(...) will iterate over each element n in sequence.\n",
    "\n",
    "    memo is the array being carried through each iteration.\n",
    "\n",
    "2. Inside the do |memo, n| ... end block:\n",
    "\n",
    "memo.push(n)    # Add the current element to the end\n",
    "memo.shift      # Remove the first (oldest) element\n",
    "memo            # Return the updated memo to be used in the next step\n",
    "\n",
    "So this keeps a moving window of the last 5 elements from the sequence.\n",
    "3. Result of .reduce(...)\n",
    "\n",
    "At the end of the reduce, you get something like:\n",
    "\n",
    "[6, 7, 8, 9, 10]  # (assuming `sequence = 1..10`)\n",
    "\n",
    "This array contains only the last 5 elements of the sequence.\n",
    "4. .select do |odds_of_last_5| ... end\n",
    "\n",
    "This now filters those 5 values:\n",
    "\n",
    "odds_of_last_5 % 2 == 1\n",
    "\n",
    "So it selects only the odd numbers from the final 5 elements."
   ]
  },
  {
   "cell_type": "code",
   "execution_count": 19,
   "id": "e79fb788-36b1-4108-afaa-0a8afd92d3da",
   "metadata": {},
   "outputs": [
    {
     "name": "stdout",
     "output_type": "stream",
     "text": [
      "That's it!\n"
     ]
    }
   ],
   "source": [
    "puts \"That's it!\""
   ]
  }
 ],
 "metadata": {
  "kernelspec": {
   "display_name": "Ruby 3 (iruby kernel)",
   "language": "ruby",
   "name": "ruby3"
  },
  "language_info": {
   "file_extension": ".rb",
   "mimetype": "application/x-ruby",
   "name": "ruby",
   "version": "3.2.3"
  }
 },
 "nbformat": 4,
 "nbformat_minor": 5
}
