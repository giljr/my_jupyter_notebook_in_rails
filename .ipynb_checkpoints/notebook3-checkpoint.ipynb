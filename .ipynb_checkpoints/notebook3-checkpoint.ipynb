{
 "cells": [
  {
   "cell_type": "markdown",
   "id": "f175bef2-ac3b-479f-a28f-7eccdf50adc2",
   "metadata": {},
   "source": [
    "### Map, Reduce & Select in Ruby\n",
    "Complex Solutions # MapReduceSelectSeries — [Episode 1](https://medium.com/jungletronics/map-reduce-select-in-ruby-b3cf698d99a6)\n",
    "\n",
    "Index:\n",
    "```\n",
    "Debugging Blocks for Map, Reduce, and Select\n",
    "     Debugging Map Blocks\n",
    "     Debugging Reduce Blocks\n",
    "     Debugging Select Blocks\n",
    "FizzBuzz\n",
    "Sum of Odd Cubes\n",
    "Sort a List of Names by Surname\n",
    "Convert a List of Names to CSV\n",
    "```\n"
   ]
  },
  {
   "cell_type": "markdown",
   "id": "02bdb62c-df17-4cf7-a298-65237d3271a9",
   "metadata": {},
   "source": [
    "#### **Map**"
   ]
  },
  {
   "cell_type": "code",
   "execution_count": 1,
   "id": "2bb5fff6-d8f8-4995-ad23-07b49f867637",
   "metadata": {},
   "outputs": [
    {
     "name": "stdout",
     "output_type": "stream",
     "text": [
      "The result of function on element: 1 is 1\n",
      "The result of function on element: 2 is 4\n",
      "The result of function on element: 3 is 9\n",
      "The result of function on element: 4 is 16\n",
      "The result of function on element: 5 is 25\n"
     ]
    },
    {
     "data": {
      "text/plain": [
       "[1, 4, 9, 16, 25]"
      ]
     },
     "execution_count": 1,
     "metadata": {},
     "output_type": "execute_result"
    }
   ],
   "source": [
    "[1,2,3,4,5].map do |n|\n",
    "  result = n * n\n",
    "  puts \"The result of function on element: #{n} is #{result}\"\n",
    "  result\n",
    "end"
   ]
  },
  {
   "cell_type": "markdown",
   "id": "25a9c13e-2262-411b-b3c2-d294600c4b3b",
   "metadata": {},
   "source": [
    "#### **Reduce**"
   ]
  },
  {
   "cell_type": "code",
   "execution_count": 2,
   "id": "e1795cb4-4920-4b4c-9511-ba33de2cdeb6",
   "metadata": {},
   "outputs": [
    {
     "name": "stdout",
     "output_type": "stream",
     "text": [
      "After operating on number: 1, the memo is 1\n",
      "After operating on number: 2, the memo is 3\n",
      "After operating on number: 3, the memo is 6\n",
      "After operating on number: 4, the memo is 10\n",
      "After operating on number: 5, the memo is 15\n"
     ]
    },
    {
     "data": {
      "text/plain": [
       "15"
      ]
     },
     "execution_count": 2,
     "metadata": {},
     "output_type": "execute_result"
    }
   ],
   "source": [
    "final_anwer = [1,2,3,4,5].reduce(0) do |memo, n|\n",
    "  memo = memo + n\n",
    "  puts \"After operating on number: #{n}, the memo is #{memo.inspect}\"\n",
    "  memo\n",
    "end "
   ]
  },
  {
   "cell_type": "markdown",
   "id": "03315537-5fdf-4f1f-987a-b55dc18862a0",
   "metadata": {},
   "source": [
    "#### **Select**"
   ]
  },
  {
   "cell_type": "code",
   "execution_count": 3,
   "id": "a4be1ced-76f0-4d00-a873-4e102a5e3500",
   "metadata": {},
   "outputs": [
    {
     "name": "stdout",
     "output_type": "stream",
     "text": [
      "The predicate is false for number 1\n",
      "The predicate is true for number 2\n",
      "The predicate is false for number 3\n",
      "The predicate is true for number 4\n",
      "The predicate is false for number 5\n"
     ]
    },
    {
     "data": {
      "text/plain": [
       "[2, 4]"
      ]
     },
     "execution_count": 3,
     "metadata": {},
     "output_type": "execute_result"
    }
   ],
   "source": [
    "[1,2,3,4,5].select do |n|\n",
    "  predicate = n %2  == 0\n",
    "  puts \"The predicate is #{predicate} for number #{n}\"\n",
    "  predicate\n",
    "end"
   ]
  },
  {
   "cell_type": "markdown",
   "id": "1bc2d660-539c-45e0-a04e-8d13ff6c3036",
   "metadata": {},
   "source": [
    "#### **FizzBuzz **"
   ]
  },
  {
   "cell_type": "code",
   "execution_count": 4,
   "id": "dc9a8786-b673-4046-acce-161dfdcc0be3",
   "metadata": {},
   "outputs": [
    {
     "data": {
      "text/plain": [
       "[\"1\", \"fizz\", \"buzz\", \"fizz\", \"5\", \"fizz\", \"7\", \"fizz\", \"buzz\", \"fizz\", \"11\", \"fizz\", \"13\", \"fizz\", \"buzz\"]"
      ]
     },
     "execution_count": 4,
     "metadata": {},
     "output_type": "execute_result"
    }
   ],
   "source": [
    "fizzbuzz_list = \n",
    "(1..15).map do |n|\n",
    "  if n % 2 == 0\n",
    "    \"fizz\"\n",
    "  elsif n % 3 == 0\n",
    "    \"buzz\"\n",
    "  elsif n % 6 == 0\n",
    "    \"fizzbuzz\"\n",
    "  else\n",
    "    n.to_s\n",
    "  end\n",
    "end"
   ]
  },
  {
   "cell_type": "markdown",
   "id": "912aca1c-8b50-4d6a-a37b-f70fc933281e",
   "metadata": {},
   "source": [
    "That’s close, but the fizzbuzz examples didn’t happen at 6 and 12. A closer\n",
    "inspection of the code suggests that if the number is divisible by 6, it will\n",
    "always be even and will be caught by the n%2==0 clause. However, if we\n",
    "catch the n%6==0 clause first, what happens?"
   ]
  },
  {
   "cell_type": "code",
   "execution_count": 5,
   "id": "f1b8ea99-5dc9-4977-94c0-c628cc924426",
   "metadata": {},
   "outputs": [
    {
     "data": {
      "text/plain": [
       "[\"1\", \"fizz\", \"buzz\", \"fizz\", \"5\", \"fizzbuzz\", \"7\", \"fizz\", \"buzz\", \"fizz\", \"11\", \"fizzbuzz\", \"13\", \"fizz\", \"buzz\"]"
      ]
     },
     "execution_count": 5,
     "metadata": {},
     "output_type": "execute_result"
    }
   ],
   "source": [
    "fizzbuzz_list =\n",
    "(1..15).map do |n|\n",
    "   if n%6 == 0\n",
    "      \"fizzbuzz\"\n",
    "   elsif n%3 ==0\n",
    "      \"buzz\"\n",
    "   elsif n%2 == 0\n",
    "      \"fizz\"\n",
    "   else\n",
    "      n.to_s\n",
    "   end\n",
    "end"
   ]
  },
  {
   "cell_type": "markdown",
   "id": "a9aae097-bfb1-4a22-a776-27d99272abb7",
   "metadata": {},
   "source": [
    "#### **Sum of Odd Cubes**"
   ]
  },
  {
   "cell_type": "code",
   "execution_count": 7,
   "id": "dd11a63b-051a-4aa8-9fe3-283a895e55da",
   "metadata": {},
   "outputs": [
    {
     "data": {
      "text/plain": [
       "124999750000"
      ]
     },
     "execution_count": 7,
     "metadata": {},
     "output_type": "execute_result"
    }
   ],
   "source": [
    "(1..1000).select do |n|\n",
    "  n % 2 == 1\n",
    "end.map do |odd_n|\n",
    "  odd_n ** 3\n",
    "end.reduce(0) do |previous_sum, odd_cube|\n",
    "  previous_sum + odd_cube\n",
    "end"
   ]
  },
  {
   "cell_type": "markdown",
   "id": "646c7b35-4302-4f78-8952-bdeb0d790936",
   "metadata": {},
   "source": [
    "#### **Sort a List of Names by Surname**\n",
    "Suppose you have a list of names in a simple text file called names.txt.\n"
   ]
  },
  {
   "cell_type": "code",
   "execution_count": 10,
   "id": "bc874ee3-8e62-4deb-9563-77bf70a0c251",
   "metadata": {},
   "outputs": [
    {
     "data": {
      "text/plain": [
       "179"
      ]
     },
     "execution_count": 10,
     "metadata": {},
     "output_type": "execute_result"
    }
   ],
   "source": [
    "names = <<~TEXT\n",
    "  John Smith\n",
    "  Azamat Bagatov\n",
    "  Hafaz Aladeen\n",
    "  Ramachandran Balasubrahmaniam\n",
    "  Ping Li\n",
    "  Wilfredo Caguiat\n",
    "  Eriks Ivanans\n",
    "  Canaan Banana\n",
    "  Ion Iliescu\n",
    "  Werner Klempner\n",
    "  Thierry Giscard\n",
    "  Joao Soares\n",
    "TEXT\n",
    "\n",
    "File.write(\"05_names.txt\", names)\n"
   ]
  },
  {
   "cell_type": "markdown",
   "id": "ab788781-6912-4cd7-a11c-a3e559d9d725",
   "metadata": {},
   "source": [
    "The **challenge** is to get the full names printed **in order of the surname**:"
   ]
  },
  {
   "cell_type": "code",
   "execution_count": 11,
   "id": "d4b36a53-cc93-4f05-b50d-29c340593ddf",
   "metadata": {},
   "outputs": [
    {
     "data": {
      "text/plain": [
       "\"Hafaz Aladeen\\nAzamat Bagatov\\nRamachandran Balasubrahmaniam\\nCanaan Banana\\nWilfredo Caguiat\\nThierry Giscard\\nIon Iliescu\\nEriks Ivanans\\nWerner Klempner\\nPing Li\\nJohn Smith\\nJoao Soares\""
      ]
     },
     "execution_count": 11,
     "metadata": {},
     "output_type": "execute_result"
    }
   ],
   "source": [
    "names = File.open(\"05_names.txt\", \"r\").read  #read the file into a string\n",
    "\n",
    "namelist = names.split(\"\\n\") #split the string into an array of names\n",
    "\n",
    "namelist.map { |fullname| fullname.split(\" \") } #split each name into an array of first and last names\n",
    "\n",
    "namelist.map { |fullname| fullname.split(\" \")[1] } #extract only the last names\n",
    "\n",
    "namelist.map { |fullname| fullname.split(\" \")[1] }.sort #sort by last name\n",
    "\n",
    "namelist.map { |fullname| [fullname.split(\" \")[1], fullname] } #annotate names with their last names\n",
    "\n",
    "sorted_list = namelist.map { |fullname| [fullname.split(\" \")[1], fullname] }.sort_by { |last_name, _| last_name } #sort by last name\n",
    "\n",
    "sorted_names = sorted_list.map { |_, fullname| fullname }.join(\"\\n\") #strip sorting keys and reconstruct full names"
   ]
  },
  {
   "cell_type": "code",
   "execution_count": 12,
   "id": "9098cadb-9ae9-430a-a19a-0df4a79b2563",
   "metadata": {},
   "outputs": [
    {
     "name": "stdout",
     "output_type": "stream",
     "text": [
      "Hafaz Aladeen\n",
      "Azamat Bagatov\n",
      "Ramachandran Balasubrahmaniam\n",
      "Canaan Banana\n",
      "Wilfredo Caguiat\n",
      "Thierry Giscard\n",
      "Ion Iliescu\n",
      "Eriks Ivanans\n",
      "Werner Klempner\n",
      "Ping Li\n",
      "John Smith\n",
      "Joao Soares\n"
     ]
    }
   ],
   "source": [
    "puts sorted_names"
   ]
  },
  {
   "cell_type": "markdown",
   "id": "6345439b-b32f-4710-a971-45e023b57e75",
   "metadata": {},
   "source": [
    "Final Solution:"
   ]
  },
  {
   "cell_type": "code",
   "execution_count": 13,
   "id": "4fc6d9b8-d70a-461f-8270-74ba1a0962e1",
   "metadata": {},
   "outputs": [
    {
     "data": {
      "text/plain": [
       "\"Hafaz Aladeen\\nAzamat Bagatov\\nRamachandran Balasubrahmaniam\\nCanaan Banana\\nWilfredo Caguiat\\nThierry Giscard\\nIon Iliescu\\nEriks Ivanans\\nWerner Klempner\\nPing Li\\nJohn Smith\\nJoao Soares\""
      ]
     },
     "execution_count": 13,
     "metadata": {},
     "output_type": "execute_result"
    }
   ],
   "source": [
    "namelist = File.open(\"05_names.txt\", \"r\").read.split(\"\\n\") # Read names from file\n",
    "namelist\n",
    "  .map { |fullname| [fullname.split(\" \")[1] || fullname, fullname] } # Extract last name, fallback to full name\n",
    "  .sort_by { |last_name, _| last_name } # Sort by last name\n",
    "  .map { |_, fullname| fullname } # Keep only the full name\n",
    "  .join(\"\\n\") # Join names into a string\n",
    "\n"
   ]
  },
  {
   "cell_type": "markdown",
   "id": "f6ecc91f-74bd-44b5-8fed-03a0a9a16750",
   "metadata": {},
   "source": [
    "Second Solution:"
   ]
  },
  {
   "cell_type": "code",
   "execution_count": 15,
   "id": "4cca296f-9d6e-4742-8134-540a57361c2f",
   "metadata": {},
   "outputs": [
    {
     "data": {
      "text/plain": [
       "\"Hafaz Aladeen\\nAzamat Bagatov\\nRamachandran Balasubrahmaniam\\nCanaan Banana\\nWilfredo Caguiat\\nThierry Giscard\\nIon Iliescu\\nEriks Ivanans\\nWerner Klempner\\nPing Li\\nJohn Smith\\nJoao Soares\""
      ]
     },
     "execution_count": 15,
     "metadata": {},
     "output_type": "execute_result"
    }
   ],
   "source": [
    "File.open(\"05_names.txt\", \"r\").read.split(\"\\n\")\n",
    "  .map { |fullname| fullname.split(\" \", 2) }                        # Split into first and last name\n",
    "  .map { |first, last| [last || first, first, last].compact }       # Ensure last name exists\n",
    "  .sort_by { |last, _, _| last }                                    # Sort by last name\n",
    "  .map { |_, first, last| [first, last].compact.join(\" \") }         # Reconstruct full names\n",
    "  .join(\"\\n\")                                                       # Join names into a single string\n"
   ]
  },
  {
   "cell_type": "markdown",
   "id": "6cf3fe2f-63bd-411e-90f1-816bf9479f8a",
   "metadata": {},
   "source": [
    "Key Differences:\n",
    "\n",
    "✅ Both solutions start by reading from a file.\n",
    "\n",
    "✅ The first solution keeps it simple by assuming names are already in a list.\n",
    "\n",
    "✅ The second solution is slightly more robust, handling cases where names might have multiple words.\n",
    "\n",
    "Both will now correctly sort names by last name while keeping the full names intact. 🚀"
   ]
  },
  {
   "cell_type": "markdown",
   "id": "85787c0e-f154-4dac-b7cc-31c315d1fac5",
   "metadata": {},
   "source": [
    "\n",
    "One typical problem is to get a text file that you need to be able to import into a CSV file\n",
    "\n",
    "For example, to convert 05_names.txt into 06_names.csv, you can use the following:\n"
   ]
  },
  {
   "cell_type": "code",
   "execution_count": 21,
   "id": "d6c23208-58d2-45b2-9d20-ad34c513258a",
   "metadata": {},
   "outputs": [
    {
     "data": {
      "text/plain": [
       "210"
      ]
     },
     "execution_count": 21,
     "metadata": {},
     "output_type": "execute_result"
    }
   ],
   "source": [
    "File.open(\"05_names.txt\", \"r\").read\n",
    "File.open(\"05_names.txt\", \"r\").read.split(\"\\n\")\n",
    "File.open(\"05_names.txt\", \"r\").read.split(\"\\n\").map { |name| name.split(\" \") }\n",
    "File.open(\"05_names.txt\", \"r\").read.split(\"\\n\").map { |name| name.split(\" \").reverse.join(\", \") }\n",
    "File.open(\"05_names.txt\", \"r\").read.split(\"\\n\").map { |name| name.split(\" \").reverse.join(\", \") }.join(\"\\n\")\n",
    "\n",
    "File.write(\"06_names.csv\", [\"Surname, First Name\", *File.read(\"05_names.txt\").split(\"\\n\").map { |name| name.split(\" \", 2).reverse.join(\", \") }].join(\"\\n\"))\n"
   ]
  },
  {
   "cell_type": "code",
   "execution_count": 26,
   "id": "28bb2872-76ed-48ec-bfd7-05bc13735e80",
   "metadata": {},
   "outputs": [
    {
     "data": {
      "text/plain": [
       "210"
      ]
     },
     "execution_count": 26,
     "metadata": {},
     "output_type": "execute_result"
    }
   ],
   "source": [
    "File.write(\n",
    "  \"07_names.csv\",\n",
    "  ([\"Surname, First Name\"] +\n",
    "   File.read(\"05_names.txt\")\n",
    "       .split(\"\\n\")\n",
    "       .map { |name| name.split(\" \", 2).reverse.join(\", \") }\n",
    "  ).join(\"\\n\")\n",
    ")\n",
    "\n"
   ]
  },
  {
   "cell_type": "code",
   "execution_count": 27,
   "id": "4d479c6b-0c7a-4429-ad13-ee589d8ec237",
   "metadata": {},
   "outputs": [
    {
     "name": "stdout",
     "output_type": "stream",
     "text": [
      "That's it!\n"
     ]
    }
   ],
   "source": [
    "puts \"That's it!\""
   ]
  }
 ],
 "metadata": {
  "kernelspec": {
   "display_name": "Ruby 3 (iruby kernel)",
   "language": "ruby",
   "name": "ruby3"
  },
  "language_info": {
   "file_extension": ".rb",
   "mimetype": "application/x-ruby",
   "name": "ruby",
   "version": "3.2.3"
  }
 },
 "nbformat": 4,
 "nbformat_minor": 5
}
