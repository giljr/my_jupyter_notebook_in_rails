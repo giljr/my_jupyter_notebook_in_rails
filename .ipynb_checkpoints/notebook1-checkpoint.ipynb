{
 "cells": [
  {
   "cell_type": "markdown",
   "id": "8678983f-3d9c-49e4-94ae-8db7444d6d87",
   "metadata": {},
   "source": [
    "## Running .rb file  (in the same directory)"
   ]
  },
  {
   "cell_type": "code",
   "execution_count": 1,
   "id": "ed58b151-f538-4c76-a97e-89d743afb217",
   "metadata": {},
   "outputs": [
    {
     "name": "stdout",
     "output_type": "stream",
     "text": [
      "\n"
     ]
    }
   ],
   "source": [
    "puts `ruby test.rb`\n"
   ]
  },
  {
   "cell_type": "code",
   "execution_count": 2,
   "id": "b77a845c-6a30-45e3-944d-c9fdec0b2df2",
   "metadata": {},
   "outputs": [
    {
     "name": "stdout",
     "output_type": "stream",
     "text": [
      "There are currently 0 dogs.\n",
      "A new dog has been created!\n",
      "Woof! my name is Buddy! and I am a dog number` 1.\n",
      "A new dog has been created!\n",
      "Woof! my name is Fido! and I am a dog number` 2.\n",
      "A new dog has been created!\n",
      "Woof! my name is Max! and I am a dog number` 3.\n",
      "Howl! Howl!\n",
      "There are currently 3 dogs.\n"
     ]
    }
   ],
   "source": [
    "puts `ruby dog.rb`"
   ]
  },
  {
   "cell_type": "code",
   "execution_count": 3,
   "id": "e4ff04e7-9363-4443-b184-89f4e96a45a5",
   "metadata": {},
   "outputs": [
    {
     "name": "stdout",
     "output_type": "stream",
     "text": [
      "/home/j3/Documents/rails_projects/ruby_course/file_method.rb\n",
      "file_method.rb\n",
      ".\n",
      ".rb\n",
      "229 bytes\n"
     ]
    }
   ],
   "source": [
    "puts `ruby file_method.rb`"
   ]
  },
  {
   "cell_type": "markdown",
   "id": "cd90eccf-1ac3-473a-a8a3-c7bddc994336",
   "metadata": {},
   "source": [
    "## Arrays"
   ]
  },
  {
   "cell_type": "code",
   "execution_count": 4,
   "id": "76346b49-3cbc-4f76-8226-e601bd3ba951",
   "metadata": {},
   "outputs": [
    {
     "data": {
      "text/plain": [
       "[1, 2.5, \"three\", [4, 5, 6]]"
      ]
     },
     "execution_count": 4,
     "metadata": {},
     "output_type": "execute_result"
    }
   ],
   "source": [
    "a = [1,2.5,\"three\",[4,5,6]]"
   ]
  },
  {
   "cell_type": "code",
   "execution_count": 5,
   "id": "f1f87129-9fb2-4ab2-b3c5-17cd6552e12d",
   "metadata": {},
   "outputs": [
    {
     "name": "stdout",
     "output_type": "stream",
     "text": [
      "[1, 2.5, \"three\", [4, 5, 6]]"
     ]
    }
   ],
   "source": [
    "print a"
   ]
  },
  {
   "cell_type": "code",
   "execution_count": 6,
   "id": "3b43fbb3-2323-49e8-ab50-6a08b95b8a1f",
   "metadata": {},
   "outputs": [
    {
     "data": {
      "text/plain": [
       "5"
      ]
     },
     "execution_count": 6,
     "metadata": {},
     "output_type": "execute_result"
    }
   ],
   "source": [
    "a[3][1]"
   ]
  },
  {
   "cell_type": "code",
   "execution_count": 7,
   "id": "fb5473aa-1450-4bb0-b5d7-7eaed0d8a617",
   "metadata": {},
   "outputs": [
    {
     "data": {
      "text/plain": [
       "[2.5, \"three\", [4, 5, 6]]"
      ]
     },
     "execution_count": 7,
     "metadata": {},
     "output_type": "execute_result"
    }
   ],
   "source": [
    "a[1..3]"
   ]
  },
  {
   "cell_type": "code",
   "execution_count": 8,
   "id": "a618260a-5cca-4346-b17d-943802f425bf",
   "metadata": {},
   "outputs": [
    {
     "data": {
      "text/plain": [
       "\"x\""
      ]
     },
     "execution_count": 8,
     "metadata": {},
     "output_type": "execute_result"
    }
   ],
   "source": [
    "a[3][1] = \"x\""
   ]
  },
  {
   "cell_type": "code",
   "execution_count": 9,
   "id": "fc7b8a82-20e3-48c8-9b4a-090469c35df6",
   "metadata": {},
   "outputs": [
    {
     "data": {
      "text/plain": [
       "[1, 2.5, \"three\", [4, \"x\", 6]]"
      ]
     },
     "execution_count": 9,
     "metadata": {},
     "output_type": "execute_result"
    }
   ],
   "source": [
    "a"
   ]
  },
  {
   "cell_type": "markdown",
   "id": "4eb2708a-9ca2-4de4-8df1-82f1fd601e9e",
   "metadata": {},
   "source": [
    "## Hash"
   ]
  },
  {
   "cell_type": "code",
   "execution_count": 10,
   "id": "b5e38467-9c13-4fdb-b9a0-cba0e51bd8c4",
   "metadata": {},
   "outputs": [
    {
     "data": {
      "text/plain": [
       "{1=>\"Hello\", 2=>\"Goodbye\"}"
      ]
     },
     "execution_count": 10,
     "metadata": {},
     "output_type": "execute_result"
    }
   ],
   "source": [
    "h1 = {1 => 'Hello', 2 => 'Goodbye'}"
   ]
  },
  {
   "cell_type": "code",
   "execution_count": 11,
   "id": "0ffe9841-9dc5-4ca5-80df-b2e8a09b51d6",
   "metadata": {},
   "outputs": [
    {
     "data": {
      "text/plain": [
       "\"Goodbye\""
      ]
     },
     "execution_count": 11,
     "metadata": {},
     "output_type": "execute_result"
    }
   ],
   "source": [
    "h1[2]"
   ]
  },
  {
   "cell_type": "code",
   "execution_count": 12,
   "id": "317f2b36-ec5e-4c83-bdfc-c58867abccfb",
   "metadata": {},
   "outputs": [
    {
     "data": {
      "text/plain": [
       "{\"name\"=>\"Multi-hash\", \"array\"=>[\"one\", \"two\", \"three\", \"four\"], \"nested array\"=>[\"I\", [\"wandered\", \"lonely\", \"as\", \"a\", \"cloud\"]], \"nested hash\"=>{\"a\"=>\"hi\", \"b\"=>\"goodbye\"}}"
      ]
     },
     "execution_count": 12,
     "metadata": {},
     "output_type": "execute_result"
    }
   ],
   "source": [
    "multihash = {\n",
    "    'name' => 'Multi-hash',\n",
    "    'array'=> ['one', 'two', 'three', 'four'],\n",
    "    'nested array' => [\"I\", [\"wandered\", \"lonely\", \"as\", \"a\",\"cloud\"]],\n",
    "    'nested hash' => {'a'=>'hi', 'b'=>'goodbye'}\n",
    "}"
   ]
  },
  {
   "cell_type": "code",
   "execution_count": 13,
   "id": "5cd2ac65-e4be-4a54-a773-a99796810413",
   "metadata": {},
   "outputs": [
    {
     "data": {
      "text/plain": [
       "\"three\""
      ]
     },
     "execution_count": 13,
     "metadata": {},
     "output_type": "execute_result"
    }
   ],
   "source": [
    "multihash['array'][2]"
   ]
  },
  {
   "cell_type": "code",
   "execution_count": 14,
   "id": "5bfc3ba4-9ef6-4c0e-948a-c93bceea7817",
   "metadata": {},
   "outputs": [
    {
     "data": {
      "text/plain": [
       "\"hi\""
      ]
     },
     "execution_count": 14,
     "metadata": {},
     "output_type": "execute_result"
    }
   ],
   "source": [
    "multihash['nested hash']['a']\n"
   ]
  },
  {
   "cell_type": "code",
   "execution_count": 15,
   "id": "c41f689c-39c0-4f4b-9789-96425058f9ac",
   "metadata": {},
   "outputs": [
    {
     "data": {
      "text/plain": [
       "\"four\""
      ]
     },
     "execution_count": 15,
     "metadata": {},
     "output_type": "execute_result"
    }
   ],
   "source": [
    "multihash['array'][3]"
   ]
  },
  {
   "cell_type": "code",
   "execution_count": 16,
   "id": "30da5114-cb2c-4066-8f16-51710c91d9b6",
   "metadata": {},
   "outputs": [
    {
     "data": {
      "text/plain": [
       "\"goodbye\""
      ]
     },
     "execution_count": 16,
     "metadata": {},
     "output_type": "execute_result"
    }
   ],
   "source": [
    "multihash['nested hash']['b']"
   ]
  },
  {
   "cell_type": "markdown",
   "id": "22fed340-a6e9-47ce-9849-5beb8a78e1a2",
   "metadata": {},
   "source": [
    "## Loops\n",
    "**[for i in ITERATOR]**"
   ]
  },
  {
   "cell_type": "code",
   "execution_count": 17,
   "id": "ff941977-e495-44f5-b175-0d98bd9305d6",
   "metadata": {},
   "outputs": [
    {
     "data": {
      "text/plain": [
       "[1, 2, 3]"
      ]
     },
     "execution_count": 17,
     "metadata": {},
     "output_type": "execute_result"
    }
   ],
   "source": [
    "for item in [1,2,3]\n",
    "    item\n",
    "end"
   ]
  },
  {
   "cell_type": "code",
   "execution_count": 18,
   "id": "2ac45b3f-fb54-419f-be83-bbb3ec936b3d",
   "metadata": {},
   "outputs": [
    {
     "data": {
      "text/plain": [
       "{1=>\"one\", 2=>\"two\", 3=>\"three\"}"
      ]
     },
     "execution_count": 18,
     "metadata": {},
     "output_type": "execute_result"
    }
   ],
   "source": [
    "for item in {1 =>'one', 2 =>'two',3 =>'three'}\n",
    "    item\n",
    "end"
   ]
  },
  {
   "cell_type": "code",
   "execution_count": 19,
   "id": "cf712a45-40de-42b2-9b68-92be691cdcd3",
   "metadata": {},
   "outputs": [
    {
     "name": "stdout",
     "output_type": "stream",
     "text": [
      "[1, \"one\"]\n",
      "[2, \"two\"]\n",
      "[3, \"three\"]\n"
     ]
    },
    {
     "data": {
      "text/plain": [
       "{1=>\"one\", 2=>\"two\", 3=>\"three\"}"
      ]
     },
     "execution_count": 19,
     "metadata": {},
     "output_type": "execute_result"
    }
   ],
   "source": [
    "for item in {1 =>'one', 2 =>'two',3 =>'three'}\n",
    "    p item\n",
    "end"
   ]
  },
  {
   "cell_type": "code",
   "execution_count": 20,
   "id": "290243e4-6f99-4900-a2ce-6df0807be9b0",
   "metadata": {},
   "outputs": [
    {
     "name": "stdout",
     "output_type": "stream",
     "text": [
      "1\n",
      "one\n",
      "2\n",
      "two\n",
      "3\n",
      "three\n"
     ]
    },
    {
     "data": {
      "text/plain": [
       "{1=>\"one\", 2=>\"two\", 3=>\"three\"}"
      ]
     },
     "execution_count": 20,
     "metadata": {},
     "output_type": "execute_result"
    }
   ],
   "source": [
    "for item in {1 =>'one', 2 =>'two',3 =>'three'}\n",
    "    puts item\n",
    "end"
   ]
  },
  {
   "cell_type": "code",
   "execution_count": 21,
   "id": "82c52b08-25f7-40e7-8051-43540c3bb6e7",
   "metadata": {},
   "outputs": [
    {
     "data": {
      "text/plain": [
       "{1=>\"one\", 2=>\"two\", 3=>\"three\"}"
      ]
     },
     "execution_count": 21,
     "metadata": {},
     "output_type": "execute_result"
    }
   ],
   "source": [
    "for item in {1 =>'one', 2 =>'two',3 =>'three'} do item end"
   ]
  },
  {
   "cell_type": "code",
   "execution_count": 22,
   "id": "2d17f017-7bb0-4c46-8256-da87ccf689d4",
   "metadata": {},
   "outputs": [
    {
     "data": {
      "text/plain": [
       "{1=>\"one\", 2=>\"two\", 3=>\"three\"}"
      ]
     },
     "execution_count": 22,
     "metadata": {},
     "output_type": "execute_result"
    }
   ],
   "source": [
    "for item in {1 =>'one', 2 =>'two',3 =>'three'} do\n",
    "    item \n",
    "end"
   ]
  },
  {
   "cell_type": "markdown",
   "id": "7d091507-ca03-49ea-9851-76ccf01882ac",
   "metadata": {},
   "source": [
    "##### **INTERATOR.each**"
   ]
  },
  {
   "cell_type": "code",
   "execution_count": 23,
   "id": "59c68858-65e7-4a79-90be-271945b9dfc2",
   "metadata": {},
   "outputs": [
    {
     "data": {
      "text/plain": [
       "{1=>\"one\", 2=>\"two\", 3=>\"three\"}"
      ]
     },
     "execution_count": 23,
     "metadata": {},
     "output_type": "execute_result"
    }
   ],
   "source": [
    "{1 =>'one', 2 =>'two',3 =>'three'}.each do item end"
   ]
  },
  {
   "cell_type": "code",
   "execution_count": 24,
   "id": "4f0f71ce-6da4-4fd1-a3d8-51ff7f78518e",
   "metadata": {},
   "outputs": [
    {
     "data": {
      "text/plain": [
       "{1=>\"one\", 2=>\"two\", 3=>\"three\"}"
      ]
     },
     "execution_count": 24,
     "metadata": {},
     "output_type": "execute_result"
    }
   ],
   "source": [
    "{1 =>'one', 2 =>'two',3 =>'three'}.each do |i| \n",
    "    i\n",
    "end"
   ]
  },
  {
   "cell_type": "code",
   "execution_count": 25,
   "id": "acf4ea3c-e11f-4e9a-80e0-73ed5471c20a",
   "metadata": {},
   "outputs": [
    {
     "data": {
      "text/plain": [
       "[1, 2, 3]"
      ]
     },
     "execution_count": 25,
     "metadata": {},
     "output_type": "execute_result"
    }
   ],
   "source": [
    "[1 ,2, 3].each do |i| \n",
    "    i\n",
    "end"
   ]
  },
  {
   "cell_type": "markdown",
   "id": "976e8bab-5430-4cb8-b0f6-82d702801107",
   "metadata": {},
   "source": [
    "#### for i in **RANGE**"
   ]
  },
  {
   "cell_type": "code",
   "execution_count": 26,
   "id": "05d7b786-aa99-4ae7-a8ed-04954b35beb6",
   "metadata": {},
   "outputs": [
    {
     "name": "stdout",
     "output_type": "stream",
     "text": [
      "1\n",
      "2\n",
      "3\n"
     ]
    },
    {
     "data": {
      "text/plain": [
       "1..3"
      ]
     },
     "execution_count": 26,
     "metadata": {},
     "output_type": "execute_result"
    }
   ],
   "source": [
    "for s in 1..3\n",
    "    puts s\n",
    "end"
   ]
  },
  {
   "cell_type": "code",
   "execution_count": 27,
   "id": "3a09ca33-7ab0-4dfb-8feb-bcb5ced43b5c",
   "metadata": {},
   "outputs": [
    {
     "name": "stdout",
     "output_type": "stream",
     "text": [
      "1\n",
      "2\n",
      "3\n"
     ]
    },
    {
     "data": {
      "text/plain": [
       "1..3"
      ]
     },
     "execution_count": 27,
     "metadata": {},
     "output_type": "execute_result"
    }
   ],
   "source": [
    "(1..3).each do |s|\n",
    "    p s\n",
    "end"
   ]
  },
  {
   "cell_type": "code",
   "execution_count": 28,
   "id": "4b6e7867-81ef-4447-bcf7-8026c22d4fe2",
   "metadata": {},
   "outputs": [
    {
     "name": "stdout",
     "output_type": "stream",
     "text": [
      "Hello 1\n",
      "Hello 2\n",
      "Hello 3\n",
      "Hello 4\n",
      "Hello 5\n",
      "Hello 6\n",
      "Hello 7\n",
      "Hello 8\n",
      "Hello 9\n",
      "Hello 10\n"
     ]
    },
    {
     "data": {
      "text/plain": [
       "1..10"
      ]
     },
     "execution_count": 28,
     "metadata": {},
     "output_type": "execute_result"
    }
   ],
   "source": [
    "for i in (1..10) do\n",
    "    puts \"Hello #{i}\"\n",
    "end"
   ]
  },
  {
   "cell_type": "markdown",
   "id": "4cfe9cc9-58c5-490a-b569-b0a32abcff2d",
   "metadata": {},
   "source": [
    "#### **upto() & downto()**"
   ]
  },
  {
   "cell_type": "code",
   "execution_count": 29,
   "id": "5ce12976-2278-46c0-a61d-eb092220cccb",
   "metadata": {},
   "outputs": [
    {
     "name": "stdout",
     "output_type": "stream",
     "text": [
      "0\n",
      "1\n",
      "2\n",
      "3\n",
      "4\n",
      "5\n",
      "6\n",
      "7\n",
      "8\n",
      "9\n",
      "10\n"
     ]
    },
    {
     "data": {
      "text/plain": [
       "0"
      ]
     },
     "execution_count": 29,
     "metadata": {},
     "output_type": "execute_result"
    }
   ],
   "source": [
    "0.upto(10) do |i|\n",
    "    puts (i)\n",
    "end\n"
   ]
  },
  {
   "cell_type": "code",
   "execution_count": 30,
   "id": "7069a459-3784-4e1b-876e-d9585d7626a3",
   "metadata": {},
   "outputs": [
    {
     "name": "stdout",
     "output_type": "stream",
     "text": [
      "10\n",
      "9\n",
      "8\n",
      "7\n",
      "6\n",
      "5\n",
      "4\n",
      "3\n",
      "2\n",
      "1\n",
      "0\n"
     ]
    },
    {
     "data": {
      "text/plain": [
       "10"
      ]
     },
     "execution_count": 30,
     "metadata": {},
     "output_type": "execute_result"
    }
   ],
   "source": [
    "10.downto(0) do |i|\n",
    "    puts i\n",
    "end"
   ]
  },
  {
   "cell_type": "markdown",
   "id": "6b446647-9532-4b40-9268-ed761824dd1c",
   "metadata": {},
   "source": [
    "#### Declare a **multi array**"
   ]
  },
  {
   "cell_type": "code",
   "execution_count": 31,
   "id": "a49115c0-3d36-4e8e-abec-4d6e1fe52ee2",
   "metadata": {},
   "outputs": [
    {
     "data": {
      "text/plain": [
       "[[\"one\", \"two\", \"three\", \"four\"], [1, 2, 3, 4]]"
      ]
     },
     "execution_count": 31,
     "metadata": {},
     "output_type": "execute_result"
    }
   ],
   "source": [
    "multiarr = [['one', 'two', 'three', 'four'],\n",
    "            [1, 2, 3, 4]\n",
    "]"
   ]
  },
  {
   "cell_type": "markdown",
   "id": "9d623a31-89f3-403b-ac07-5edcac7ea074",
   "metadata": {},
   "source": [
    "#### **for i in interator**"
   ]
  },
  {
   "cell_type": "code",
   "execution_count": 32,
   "id": "abaf8e21-5ebf-43c0-9154-d5027436d006",
   "metadata": {},
   "outputs": [
    {
     "name": "stdout",
     "output_type": "stream",
     "text": [
      "[\"one\", \"two\", \"three\", \"four\"]\n",
      "[1, 2, 3, 4]\n"
     ]
    },
    {
     "data": {
      "text/plain": [
       "[[\"one\", \"two\", \"three\", \"four\"], [1, 2, 3, 4]]"
      ]
     },
     "execution_count": 32,
     "metadata": {},
     "output_type": "execute_result"
    }
   ],
   "source": [
    "for i in multiarr\n",
    "    p i\n",
    "end"
   ]
  },
  {
   "cell_type": "code",
   "execution_count": 33,
   "id": "e1c81c63-95e3-4fa2-8e35-0f96582cdbb5",
   "metadata": {},
   "outputs": [
    {
     "name": "stdout",
     "output_type": "stream",
     "text": [
      "a=one, b=two, c=three, d=four\n",
      "a=1, b=2, c=3, d=4\n"
     ]
    },
    {
     "data": {
      "text/plain": [
       "[[\"one\", \"two\", \"three\", \"four\"], [1, 2, 3, 4]]"
      ]
     },
     "execution_count": 33,
     "metadata": {},
     "output_type": "execute_result"
    }
   ],
   "source": [
    "for (a,b,c,d) in multiarr\n",
    "   print(\"a=#{a}, b=#{b}, c=#{c}, d=#{d}\\n\")\n",
    "end"
   ]
  },
  {
   "cell_type": "markdown",
   "id": "f9741a91-2617-422a-9d45-4949ed9554c7",
   "metadata": {},
   "source": [
    "#### **.each**\n",
    "#### **block iterator**"
   ]
  },
  {
   "cell_type": "code",
   "execution_count": 34,
   "id": "c00749d3-38b8-4c62-9238-53c280e3216a",
   "metadata": {},
   "outputs": [
    {
     "name": "stdout",
     "output_type": "stream",
     "text": [
      "a=one, b=two, c=three, d=four\n",
      "a=1, b=2, c=3, d=4\n"
     ]
    },
    {
     "data": {
      "text/plain": [
       "[[\"one\", \"two\", \"three\", \"four\"], [1, 2, 3, 4]]"
      ]
     },
     "execution_count": 34,
     "metadata": {},
     "output_type": "execute_result"
    }
   ],
   "source": [
    "multiarr.each do |a,b,c,d|\n",
    "   print(\"a=#{a}, b=#{b}, c=#{c}, d=#{d}\\n\")\n",
    "end"
   ]
  },
  {
   "cell_type": "markdown",
   "id": "927cf4e5-0f26-44a0-8874-064d4884cdc7",
   "metadata": {},
   "source": [
    "#### **alternative {} delimiters**"
   ]
  },
  {
   "cell_type": "code",
   "execution_count": 35,
   "id": "3a267866-1958-44e6-a7dd-2ef095c667f4",
   "metadata": {},
   "outputs": [
    {
     "name": "stdout",
     "output_type": "stream",
     "text": [
      "a=one, b=two, c=three, d=four\n",
      "a=1, b=2, c=3, d=4\n"
     ]
    },
    {
     "data": {
      "text/plain": [
       "[[\"one\", \"two\", \"three\", \"four\"], [1, 2, 3, 4]]"
      ]
     },
     "execution_count": 35,
     "metadata": {},
     "output_type": "execute_result"
    }
   ],
   "source": [
    "multiarr.each { |a,b,c,d|\n",
    "   print(\"a=#{a}, b=#{b}, c=#{c}, d=#{d}\\n\")\n",
    "}"
   ]
  },
  {
   "cell_type": "markdown",
   "id": "c698a3c0-dc97-462a-9484-0f96ac3e74d9",
   "metadata": {},
   "source": [
    "#### **While**\n",
    "##### Initialize with zero"
   ]
  },
  {
   "cell_type": "code",
   "execution_count": 36,
   "id": "cc3f7cdf-411d-4c94-8e2b-805c7ce43f99",
   "metadata": {},
   "outputs": [
    {
     "name": "stdout",
     "output_type": "stream",
     "text": [
      "0\n",
      "1\n",
      "2\n",
      "3\n",
      "4\n",
      "5\n",
      "6\n",
      "7\n",
      "8\n",
      "9\n",
      "end\n"
     ]
    }
   ],
   "source": [
    "x = 0\n",
    "\n",
    "while x < 10 do \n",
    "    puts x\n",
    "    x += 1\n",
    "end\n",
    "\n",
    "puts \"end\""
   ]
  },
  {
   "cell_type": "markdown",
   "id": "09fb7552-44f6-4a70-93f2-17d2b96a046d",
   "metadata": {},
   "source": [
    "#### alternative sintax"
   ]
  },
  {
   "cell_type": "code",
   "execution_count": 37,
   "id": "3fcff155-2152-4d11-80f2-e68280512908",
   "metadata": {},
   "outputs": [
    {
     "name": "stdout",
     "output_type": "stream",
     "text": [
      "0\n",
      "1\n",
      "2\n",
      "3\n",
      "4\n",
      "5\n",
      "6\n",
      "7\n",
      "8\n",
      "9\n",
      "end\n"
     ]
    }
   ],
   "source": [
    "x = 0\n",
    "\n",
    "begin \n",
    "    puts x\n",
    "    x += 1\n",
    "end while x < 10 \n",
    "\n",
    "puts \"end\""
   ]
  },
  {
   "cell_type": "markdown",
   "id": "918fc05a-1b7a-46f6-8efc-f4bbaa2d1736",
   "metadata": {},
   "source": [
    "##### initialize with 10"
   ]
  },
  {
   "cell_type": "code",
   "execution_count": 38,
   "id": "6c91beab-2dd4-4dfd-9920-bc8bdd088654",
   "metadata": {},
   "outputs": [
    {
     "name": "stdout",
     "output_type": "stream",
     "text": [
      "end\n"
     ]
    }
   ],
   "source": [
    "x = 10\n",
    "\n",
    "while x < 10 do \n",
    "    puts x\n",
    "    x += 1\n",
    "end\n",
    "\n",
    "puts \"end\""
   ]
  },
  {
   "cell_type": "markdown",
   "id": "a08c0e15-1fff-4291-9f98-5a9f4bc8c6f4",
   "metadata": {},
   "source": [
    "#### The difference here is that I printed the last number because I ran the test afterward.\n",
    "This runs once!"
   ]
  },
  {
   "cell_type": "code",
   "execution_count": 39,
   "id": "e6699938-1ca9-45af-a194-b71faf78c4e3",
   "metadata": {},
   "outputs": [
    {
     "name": "stdout",
     "output_type": "stream",
     "text": [
      "10\n",
      "end\n"
     ]
    }
   ],
   "source": [
    "x = 10\n",
    "\n",
    "begin \n",
    "    puts x\n",
    "    x += 1\n",
    "end while x < 10 \n",
    "\n",
    "puts \"end\""
   ]
  },
  {
   "cell_type": "markdown",
   "id": "b62bab81-bc5b-4ac7-a178-156490d46d9d",
   "metadata": {},
   "source": [
    "#### Runs Zero or More Times\n",
    "```\n",
    "while <test> do\n",
    "    # code \n",
    "end\n",
    "```"
   ]
  },
  {
   "cell_type": "markdown",
   "id": "5c8f1dde-b2b7-41d0-8a62-8c62b9d9b8b3",
   "metadata": {},
   "source": [
    "#### Runs One or More Times\n",
    "```\n",
    "begin\n",
    "   # code\n",
    "end while <test>"
   ]
  },
  {
   "cell_type": "markdown",
   "id": "c4afe796-63ff-4533-abd4-e8070f8fdd8b",
   "metadata": {},
   "source": [
    "#### **Until**\n",
    " ##### **Never** executes"
   ]
  },
  {
   "cell_type": "code",
   "execution_count": 40,
   "id": "bc12da9e-b1f0-4900-98bd-0b28d00cd9e3",
   "metadata": {},
   "outputs": [],
   "source": [
    "i = 10\n",
    "until i == 10 do puts(i) end"
   ]
  },
  {
   "cell_type": "markdown",
   "id": "f2072472-10d2-4d35-9609-8c0c7952e04b",
   "metadata": {},
   "source": [
    "  ##### Executes **once**"
   ]
  },
  {
   "cell_type": "code",
   "execution_count": 41,
   "id": "97dc0943-4dbe-4062-a93e-af5e27a98ff1",
   "metadata": {},
   "outputs": [
    {
     "name": "stdout",
     "output_type": "stream",
     "text": [
      "10\n"
     ]
    }
   ],
   "source": [
    "i = 10\n",
    "begin puts(i) end until i == 10"
   ]
  },
  {
   "cell_type": "markdown",
   "id": "bd1fa0bd-94c3-4974-af63-202743918e33",
   "metadata": {},
   "source": [
    "##### **Multiline** - **do** keywork **is optional**"
   ]
  },
  {
   "cell_type": "code",
   "execution_count": 42,
   "id": "8e7281b9-db0e-43ad-8d88-920f814ddb2a",
   "metadata": {},
   "outputs": [],
   "source": [
    "i = 10\n",
    "until i == 10 do\n",
    "    puts(i) \n",
    "end"
   ]
  },
  {
   "cell_type": "code",
   "execution_count": 43,
   "id": "6c81263a-e760-43d8-b484-2f40db70d532",
   "metadata": {},
   "outputs": [],
   "source": [
    "i = 10\n",
    "until i == 10\n",
    "    puts(i) \n",
    "end"
   ]
  },
  {
   "cell_type": "markdown",
   "id": "c6df4786-2662-405d-b542-a093393b492c",
   "metadata": {},
   "source": [
    "#### **loop** do code **end**"
   ]
  },
  {
   "cell_type": "code",
   "execution_count": 44,
   "id": "a09ed87b-abea-46f3-8f00-f752a8a339d4",
   "metadata": {},
   "outputs": [
    {
     "name": "stdout",
     "output_type": "stream",
     "text": [
      "one\n",
      "two\n",
      "three\n",
      "four\n"
     ]
    }
   ],
   "source": [
    "\n",
    "arr = ['one', 'two', 'three', 'four']\n",
    "\n",
    "i = 0\n",
    "\n",
    "loop do\n",
    "  puts(arr[i])\n",
    "  i += 1\n",
    "  if i == arr.length\n",
    "    break\n",
    "  end\n",
    "end\n"
   ]
  },
  {
   "cell_type": "code",
   "execution_count": null,
   "id": "17acf0db-28a4-4edc-af2e-34f0cc518e95",
   "metadata": {},
   "outputs": [],
   "source": []
  }
 ],
 "metadata": {
  "kernelspec": {
   "display_name": "Ruby 3 (iruby kernel)",
   "language": "ruby",
   "name": "ruby3"
  },
  "language_info": {
   "file_extension": ".rb",
   "mimetype": "application/x-ruby",
   "name": "ruby",
   "version": "3.2.3"
  }
 },
 "nbformat": 4,
 "nbformat_minor": 5
}
